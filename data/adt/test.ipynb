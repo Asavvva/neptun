{
 "cells": [
  {
   "cell_type": "code",
   "execution_count": null,
   "id": "cf349dc1",
   "metadata": {},
   "outputs": [],
   "source": [
    "import numpy as np\n",
    "import datetime\n",
    "from netCDF4 import Dataset\n",
    "from matplotlib import pyplot as plt\n",
    "from mpl_toolkits.basemap import Basemap"
   ]
  },
  {
   "cell_type": "code",
   "execution_count": null,
   "id": "2d69fd10",
   "metadata": {},
   "outputs": [],
   "source": [
    "data = Dataset('/mnt/hippocamp/asavin/data/adt/adt_1993-2024_daily_n80_s70_w55_e105.nc')"
   ]
  },
  {
   "cell_type": "code",
   "execution_count": null,
   "id": "0f772e66",
   "metadata": {},
   "outputs": [],
   "source": [
    "data.variables"
   ]
  },
  {
   "cell_type": "code",
   "execution_count": null,
   "id": "7ac34394",
   "metadata": {},
   "outputs": [],
   "source": []
  },
  {
   "cell_type": "code",
   "execution_count": null,
   "id": "88e01aa7",
   "metadata": {},
   "outputs": [],
   "source": [
    "latitude = np.asarray(data['latitude'])\n",
    "longitude = np.asarray(data['longitude'])\n",
    "time = np.asarray(data['time'])"
   ]
  },
  {
   "cell_type": "code",
   "execution_count": null,
   "id": "a689e681",
   "metadata": {},
   "outputs": [],
   "source": [
    "latitude"
   ]
  },
  {
   "cell_type": "code",
   "execution_count": null,
   "id": "d25d7785",
   "metadata": {},
   "outputs": [],
   "source": [
    "longitude"
   ]
  },
  {
   "cell_type": "code",
   "execution_count": null,
   "id": "4262cf66",
   "metadata": {},
   "outputs": [],
   "source": [
    "lon2d, lat2d = np.meshgrid(longitude, latitude)"
   ]
  },
  {
   "cell_type": "code",
   "execution_count": null,
   "id": "2d156591",
   "metadata": {},
   "outputs": [],
   "source": [
    "time = [datetime.datetime(1970, 1, 1) + datetime.timedelta(seconds=int(t)) for t in time]"
   ]
  },
  {
   "cell_type": "code",
   "execution_count": null,
   "id": "68bfddbf",
   "metadata": {},
   "outputs": [],
   "source": [
    "time[0], time[-1]"
   ]
  },
  {
   "cell_type": "code",
   "execution_count": null,
   "id": "51d36bbb",
   "metadata": {},
   "outputs": [],
   "source": [
    "adt = np.asarray(data['adt'])"
   ]
  },
  {
   "cell_type": "code",
   "execution_count": null,
   "id": "dc70b815",
   "metadata": {},
   "outputs": [],
   "source": [
    "def drawing(data, longitude, latitude):\n",
    "    fig = plt.figure(figsize=(24, 24), dpi = 300)\n",
    "    \n",
    "    m = Basemap(width=2600000,height=1500000,\n",
    "                resolution='l',projection='aea',\n",
    "                lat_1=60, lat_2=65, lon_0=72, lat_0=76)\n",
    "    m.drawcoastlines()\n",
    "    m.fillcontinents(color='grey',lake_color='white')\n",
    "    m.drawparallels(np.arange(-80.,80.,2.), labels=[False,True,True,False])\n",
    "    m.drawmeridians(np.arange(-180.,180.,5.), labels=[True,True,False,True])\n",
    "    m.drawmapboundary(fill_color='white')\n",
    "    m.scatter(longitude, latitude, s=20, c=data,\n",
    "              cmap='jet', marker='o', latlon=True)\n",
    "    font = {'size'   : 16}\n",
    "    plt.rc('font', **font)\n",
    "    ax = plt.gca()\n",
    "    cbar=plt.colorbar(label='absolute dynamic topography', orientation='vertical', shrink=0.30)\n",
    "    # cbar.set_ticks([])\n",
    "    plt.show()\n",
    "    plt.clf()\n",
    "    plt.close('all')"
   ]
  },
  {
   "cell_type": "code",
   "execution_count": null,
   "id": "0b95accd",
   "metadata": {},
   "outputs": [],
   "source": [
    "t = 365*22 + 235"
   ]
  },
  {
   "cell_type": "code",
   "execution_count": null,
   "id": "00dac55f",
   "metadata": {},
   "outputs": [],
   "source": [
    "time[t]"
   ]
  },
  {
   "cell_type": "code",
   "execution_count": null,
   "id": "ba848538",
   "metadata": {},
   "outputs": [],
   "source": [
    "drawing(data=adt[t,:,:], longitude=lon2d, latitude=lat2d)"
   ]
  },
  {
   "cell_type": "code",
   "execution_count": null,
   "id": "70f5d352",
   "metadata": {},
   "outputs": [],
   "source": [
    "np.sum(~np.isnan(adt[t,:,:]))"
   ]
  },
  {
   "cell_type": "code",
   "execution_count": null,
   "id": "ed1a77bb",
   "metadata": {},
   "outputs": [],
   "source": [
    "flag_ice = np.asarray(data['flag_ice'])"
   ]
  },
  {
   "cell_type": "code",
   "execution_count": null,
   "id": "6ae9f51f",
   "metadata": {},
   "outputs": [],
   "source": [
    "drawing(flag_ice[t,:,:], longitude=lon2d, latitude=lat2d)"
   ]
  },
  {
   "cell_type": "code",
   "execution_count": null,
   "id": "1499965a",
   "metadata": {},
   "outputs": [],
   "source": [
    "np.sum(~np.isnan(flag_ice[t,:,:]))"
   ]
  },
  {
   "cell_type": "code",
   "execution_count": null,
   "id": "d276d4d0",
   "metadata": {},
   "outputs": [],
   "source": [
    "ice_mask = np.where((np.isnan(adt[t,:,:])) | (flag_ice[t,:,:] == 1), 0, 1)"
   ]
  },
  {
   "cell_type": "code",
   "execution_count": null,
   "id": "af0df98c",
   "metadata": {},
   "outputs": [],
   "source": [
    "drawing(ice_mask, longitude=lon2d, latitude=lat2d)"
   ]
  },
  {
   "cell_type": "code",
   "execution_count": null,
   "id": "b3aa3f0c",
   "metadata": {},
   "outputs": [],
   "source": []
  },
  {
   "cell_type": "code",
   "execution_count": null,
   "id": "436d11cb",
   "metadata": {},
   "outputs": [],
   "source": []
  },
  {
   "cell_type": "code",
   "execution_count": null,
   "id": "e6325400",
   "metadata": {},
   "outputs": [],
   "source": []
  },
  {
   "cell_type": "code",
   "execution_count": null,
   "id": "54e9fd93",
   "metadata": {},
   "outputs": [],
   "source": [
    "adt2 = Dataset('/mnt/hippocamp/asavin/data/ssh/adt_1993-2022_daily.nc')"
   ]
  },
  {
   "cell_type": "code",
   "execution_count": null,
   "id": "908f0e4f",
   "metadata": {},
   "outputs": [],
   "source": [
    "adt2.variables"
   ]
  },
  {
   "cell_type": "code",
   "execution_count": null,
   "id": "30f1da68",
   "metadata": {},
   "outputs": [],
   "source": [
    "latitude2 = np.asarray(adt2['latitude'])\n",
    "longitude2 = np.asarray(adt2['longitude'])"
   ]
  },
  {
   "cell_type": "code",
   "execution_count": null,
   "id": "706992ea",
   "metadata": {},
   "outputs": [],
   "source": [
    "latitude2"
   ]
  },
  {
   "cell_type": "code",
   "execution_count": null,
   "id": "b40a80fa",
   "metadata": {},
   "outputs": [],
   "source": []
  },
  {
   "cell_type": "code",
   "execution_count": null,
   "id": "33d6fe6f",
   "metadata": {},
   "outputs": [],
   "source": [
    "adt2000 = Dataset('/app/data/adt/data/2000.nc')\n",
    "latitude2000 = np.asarray(adt2000['latitude'])\n",
    "longitude2000 = np.asarray(adt2000['longitude'])"
   ]
  },
  {
   "cell_type": "code",
   "execution_count": null,
   "id": "b23c5392",
   "metadata": {},
   "outputs": [],
   "source": [
    "adt2010 = Dataset('/app/data/adt/data/2010.nc')\n",
    "latitude2010 = np.asarray(adt2010['latitude'])\n",
    "longitude2010 = np.asarray(adt2010['longitude'])"
   ]
  },
  {
   "cell_type": "code",
   "execution_count": null,
   "id": "de12ccbd",
   "metadata": {},
   "outputs": [],
   "source": [
    "(latitude2000 - latitude2010).max()"
   ]
  },
  {
   "cell_type": "code",
   "execution_count": null,
   "id": "8db43919",
   "metadata": {},
   "outputs": [],
   "source": [
    "(longitude2000 - longitude2010).max()"
   ]
  },
  {
   "cell_type": "code",
   "execution_count": null,
   "id": "2dda9109",
   "metadata": {},
   "outputs": [],
   "source": []
  },
  {
   "cell_type": "code",
   "execution_count": null,
   "id": "b7bc45de",
   "metadata": {},
   "outputs": [],
   "source": []
  },
  {
   "cell_type": "code",
   "execution_count": null,
   "id": "62b18c7c",
   "metadata": {},
   "outputs": [],
   "source": []
  }
 ],
 "metadata": {
  "kernelspec": {
   "display_name": "Python 3",
   "language": "python",
   "name": "python3"
  },
  "language_info": {
   "codemirror_mode": {
    "name": "ipython",
    "version": 3
   },
   "file_extension": ".py",
   "mimetype": "text/x-python",
   "name": "python",
   "nbconvert_exporter": "python",
   "pygments_lexer": "ipython3",
   "version": "3.10.12"
  }
 },
 "nbformat": 4,
 "nbformat_minor": 5
}
