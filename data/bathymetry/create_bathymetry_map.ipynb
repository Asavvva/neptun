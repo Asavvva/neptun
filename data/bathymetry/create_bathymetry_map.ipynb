{
 "cells": [
  {
   "cell_type": "code",
   "execution_count": null,
   "id": "725a730f",
   "metadata": {},
   "outputs": [],
   "source": [
    "from netCDF4 import Dataset\n",
    "from matplotlib import pyplot as plt\n",
    "import numpy as np\n",
    "from mpl_toolkits.basemap import Basemap\n",
    "from matplotlib.colors import BoundaryNorm, ListedColormap\n",
    "from matplotlib.cm import get_cmap"
   ]
  },
  {
   "cell_type": "code",
   "execution_count": null,
   "id": "3de16504",
   "metadata": {},
   "outputs": [],
   "source": [
    "bathymetry = Dataset('/app/data/bathymetry/gebco_2024_n90.0_s67.0_w10.0_e240.0.nc', 'r')"
   ]
  },
  {
   "cell_type": "code",
   "execution_count": null,
   "id": "1a55730b",
   "metadata": {},
   "outputs": [],
   "source": [
    "bathymetry.variables"
   ]
  },
  {
   "cell_type": "code",
   "execution_count": null,
   "id": "05ad397a",
   "metadata": {},
   "outputs": [],
   "source": [
    "latitude = np.asarray(bathymetry['lat'])\n",
    "longitude = np.asarray(bathymetry['lon'])\n",
    "depth = np.asarray(bathymetry['elevation'])"
   ]
  },
  {
   "cell_type": "code",
   "execution_count": null,
   "id": "58609612",
   "metadata": {},
   "outputs": [],
   "source": [
    "latitude.shape, longitude.shape, depth.shape"
   ]
  },
  {
   "cell_type": "code",
   "execution_count": null,
   "id": "3de04578",
   "metadata": {},
   "outputs": [],
   "source": [
    "latitude2 = latitude[::10]\n",
    "longitude2 = longitude[::10]\n",
    "depth2 = depth[::10, ::10]\n",
    "latitude2.shape, longitude2.shape, depth2.shape"
   ]
  },
  {
   "cell_type": "code",
   "execution_count": null,
   "id": "1652534f",
   "metadata": {},
   "outputs": [],
   "source": [
    "depth2 = np.where(depth2 > 0, np.nan, depth2)"
   ]
  },
  {
   "cell_type": "code",
   "execution_count": null,
   "id": "be9c00c4",
   "metadata": {},
   "outputs": [],
   "source": []
  },
  {
   "cell_type": "code",
   "execution_count": null,
   "id": "34250ed7",
   "metadata": {},
   "outputs": [],
   "source": [
    "lon, lat = np.meshgrid(longitude2, latitude2)"
   ]
  },
  {
   "cell_type": "code",
   "execution_count": null,
   "id": "64d1a517",
   "metadata": {},
   "outputs": [],
   "source": [
    "fig = plt.figure(figsize=(24, 24), dpi = 300)\n",
    "\n",
    "m = Basemap(width=3500000,height=1500000,\n",
    "            resolution='l',projection='aea',\n",
    "            lat_1=60, lat_2=65, lon_0=140, lat_0=76)\n",
    "\n",
    "m.drawcoastlines()\n",
    "m.fillcontinents(color='grey',lake_color='white')\n",
    "m.drawparallels(np.arange(-80.,80.,2.), labels=[False,True,True,False])\n",
    "m.drawmeridians(np.arange(-180.,180.,5.), labels=[True,True,False,True])\n",
    "m.drawmapboundary(fill_color='white')\n",
    "\n",
    "x, y = m(lon, lat)\n",
    "\n",
    "bounds = [-5000, -4000, -3000, -2000, -1000, -500, -400, -300, -200, -150, -100, -50, -25, -10, -5]\n",
    "norm = BoundaryNorm(bounds, ncolors=256)\n",
    "cmap = get_cmap('viridis')\n",
    "cmap_array = cmap(np.linspace(0, 1, 256))\n",
    "cmap_rich = ListedColormap(cmap_array)\n",
    "\n",
    "# cs = m.scatter(x, y, c=depth2.ravel(), cmap=cmap, norm=norm, s=10)\n",
    "cs = m.pcolormesh(x, y, data=depth2, cmap=cmap, norm=norm)\n",
    "cbar = plt.colorbar(cs, boundaries=bounds, ticks=bounds, shrink=0.30)\n",
    "\n",
    "plt.show()\n",
    "plt.clf()\n",
    "plt.close('all')"
   ]
  },
  {
   "cell_type": "code",
   "execution_count": null,
   "id": "b59fe062",
   "metadata": {},
   "outputs": [],
   "source": [
    "fig = plt.figure(figsize=(24, 24), dpi = 300)\n",
    "\n",
    "m = Basemap(width=2600000,height=1500000,\n",
    "                resolution='l',projection='aea',\n",
    "                lat_1=60, lat_2=65, lon_0=72, lat_0=76)\n",
    "\n",
    "m.drawcoastlines()\n",
    "m.fillcontinents(color='grey',lake_color='white')\n",
    "m.drawparallels(np.arange(-80.,80.,2.), labels=[False,True,True,False])\n",
    "m.drawmeridians(np.arange(-180.,180.,5.), labels=[True,True,False,True])\n",
    "m.drawmapboundary(fill_color='white')\n",
    "\n",
    "x, y = m(lon, lat)\n",
    "\n",
    "bounds = [-5000, -4000, -3000, -2000, -1000, -500, -400, -300, -200, -150, -100, -50, -25, -10, -5]\n",
    "norm = BoundaryNorm(bounds, ncolors=256)\n",
    "cmap = get_cmap('viridis')\n",
    "cmap_array = cmap(np.linspace(0, 1, 256))\n",
    "cmap_rich = ListedColormap(cmap_array)\n",
    "\n",
    "# cs = m.scatter(x, y, c=depth2.ravel(), cmap=cmap, norm=norm, s=10)\n",
    "cs = m.pcolormesh(x, y, data=depth2, cmap=cmap, norm=norm)\n",
    "cbar = plt.colorbar(cs, boundaries=bounds, ticks=bounds, shrink=0.30)\n",
    "\n",
    "plt.show()\n",
    "plt.clf()\n",
    "plt.close('all')"
   ]
  },
  {
   "cell_type": "code",
   "execution_count": null,
   "id": "9ed8019c",
   "metadata": {},
   "outputs": [],
   "source": []
  },
  {
   "cell_type": "code",
   "execution_count": null,
   "id": "cafc18ad",
   "metadata": {},
   "outputs": [],
   "source": []
  }
 ],
 "metadata": {
  "kernelspec": {
   "display_name": "Python 3",
   "language": "python",
   "name": "python3"
  },
  "language_info": {
   "codemirror_mode": {
    "name": "ipython",
    "version": 3
   },
   "file_extension": ".py",
   "mimetype": "text/x-python",
   "name": "python",
   "nbconvert_exporter": "python",
   "pygments_lexer": "ipython3",
   "version": "3.10.12"
  }
 },
 "nbformat": 4,
 "nbformat_minor": 5
}
