{
 "cells": [
  {
   "cell_type": "code",
   "execution_count": 1,
   "metadata": {},
   "outputs": [],
   "source": [
    "from netCDF4 import Dataset\n",
    "from matplotlib import pyplot as plt\n",
    "import pandas as pd\n",
    "import numpy as np\n",
    "import datetime\n",
    "from tqdm import tqdm\n",
    "from glob import glob\n",
    "import pickle\n",
    "import random\n",
    "import os\n",
    "import fnmatch\n",
    "\n",
    "import torch\n",
    "import torch.nn as nn\n",
    "from torch.utils.data import DataLoader\n",
    "from torch.utils.data import Dataset as TorchDataset\n",
    "import torch.nn.functional as F\n",
    "from torchvision import datasets, transforms\n",
    "from typing import Tuple, List, Type, Dict, Any\n",
    "from torch.utils.tensorboard import SummaryWriter\n",
    "\n",
    "from SGDR import CosineAnnealingWarmRestarts\n",
    "from mish import Mish\n",
    "from coord_conv import CoordConv\n",
    "from MyResidualNetwork import MyResNet, MyBasicBlock\n",
    "from MyDataPreparationLSTM import CustomDataset\n",
    "from autoencoder import Encoder, Decoder"
   ]
  },
  {
   "cell_type": "code",
   "execution_count": null,
   "metadata": {},
   "outputs": [],
   "source": [
    "def drawing(tensor1, tensor2, indexes):\n",
    "    for i in indexes:\n",
    "        # Извлечение частей тензоров\n",
    "        extracted_tensor1_0 = tensor1[i, 0, :, :]\n",
    "        extracted_tensor1_1 = tensor1[i, 1, :, :]\n",
    "        extracted_tensor2_0 = tensor2[i, 0, :, :]\n",
    "        extracted_tensor2_1 = tensor2[i, 1, :, :]\n",
    "\n",
    "        # Конвертация в numpy\n",
    "        array1_0 = extracted_tensor1_0.detach().cpu().numpy()\n",
    "        array1_1 = extracted_tensor1_1.detach().cpu().numpy()\n",
    "        array2_0 = extracted_tensor2_0.detach().cpu().numpy()\n",
    "        array2_1 = extracted_tensor2_1.detach().cpu().numpy()\n",
    "\n",
    "        # Получение общих минимумов/максимумов для нормализации отображения\n",
    "        vmin = min(array1_0.min(), array1_1.min(), array2_0.min(), array2_1.min())\n",
    "        vmax = max(array1_0.max(), array1_1.max(), array2_0.max(), array2_1.max())\n",
    "\n",
    "        # Построение графиков\n",
    "        fig, axs = plt.subplots(2, 2, figsize=(12, 8))\n",
    "        \n",
    "        # Tensor 1\n",
    "        axs[0, 0].imshow(array1_0, cmap='viridis', aspect='auto', vmin=vmin, vmax=vmax)\n",
    "        axs[0, 0].set_title('Tensor1 U')\n",
    "\n",
    "        axs[1, 0].imshow(array1_1, cmap='viridis', aspect='auto', vmin=vmin, vmax=vmax)\n",
    "        axs[1, 0].set_title('Tensor1 V')\n",
    "\n",
    "        # Tensor 2\n",
    "        axs[0, 1].imshow(array2_0, cmap='viridis', aspect='auto', vmin=vmin, vmax=vmax)\n",
    "        axs[0, 1].set_title('Tensor2 U')\n",
    "\n",
    "        axs[1, 1].imshow(array2_1, cmap='viridis', aspect='auto', vmin=vmin, vmax=vmax)\n",
    "        axs[1, 1].set_title('Tensor2 V')\n",
    "\n",
    "        # Добавление единого цветового бара\n",
    "        cbar = fig.colorbar(axs[0, 0].images[0], ax=axs, orientation='vertical', fraction=0.02, pad=0.04)\n",
    "        cbar.ax.set_ylabel('wind speed')\n",
    "\n",
    "        plt.tight_layout()\n",
    "        plt.show()\n",
    "        \n",
    "        print('--------------------------------------------------------------------------------------------------')"
   ]
  },
  {
   "cell_type": "code",
   "execution_count": 3,
   "metadata": {},
   "outputs": [],
   "source": [
    "run_name = 'wind_pre_lstm_run002'\n",
    "pretrained_encoder_name = 'model_wind_pre_autoencoder_run002_encoder'\n",
    "pretrained_decoder_name = 'model_wind_pre_autoencoder_run002_decoder'"
   ]
  },
  {
   "cell_type": "code",
   "execution_count": null,
   "metadata": {},
   "outputs": [],
   "source": [
    "pretrained_encoder = torch.load(f'/app/Kara_plume_movement/wind/models/{pretrained_encoder_name}.pth', map_location=torch.device('cpu'));\n",
    "lstm = torch.load(f'/app/Kara_plume_movement/wind/models/model_{run_name}_lstm_network.pth', map_location=torch.device('cpu'));\n",
    "decoder = torch.load(f'/app/Kara_plume_movement/wind/models/model_{run_name}_MLPdecoder.pth', map_location=torch.device('cpu'));\n",
    "pretrained_decoder = torch.load(f'/app/Kara_plume_movement/wind/models/{pretrained_decoder_name}.pth', map_location=torch.device('cpu'));"
   ]
  },
  {
   "cell_type": "code",
   "execution_count": 5,
   "metadata": {},
   "outputs": [],
   "source": [
    "pretrained_encoder.eval();\n",
    "lstm.eval();\n",
    "decoder.eval();\n",
    "pretrained_decoder.eval();"
   ]
  },
  {
   "cell_type": "code",
   "execution_count": 6,
   "metadata": {},
   "outputs": [],
   "source": [
    "pretrained_encoder = pretrained_encoder.cuda()\n",
    "lstm = lstm.cuda()\n",
    "decoder = decoder.cuda()\n",
    "pretrained_decoder = pretrained_decoder.cuda()"
   ]
  },
  {
   "cell_type": "code",
   "execution_count": 7,
   "metadata": {},
   "outputs": [],
   "source": [
    "from wind_pre_lstm_001 import find_files"
   ]
  },
  {
   "cell_type": "code",
   "execution_count": 8,
   "metadata": {},
   "outputs": [],
   "source": [
    "wind_files_pkl = find_files('/mnt/hippocamp/asavin/data/wind/wind_arrays_kara_norm', '*.pkl')\n",
    "wind_files_pkl.sort()"
   ]
  },
  {
   "cell_type": "code",
   "execution_count": 9,
   "metadata": {},
   "outputs": [],
   "source": [
    "dataset = CustomDataset(wind_files_pkl, num_days=14, num_years=4)"
   ]
  },
  {
   "cell_type": "code",
   "execution_count": 10,
   "metadata": {},
   "outputs": [],
   "source": [
    "batch_size = 32"
   ]
  },
  {
   "cell_type": "code",
   "execution_count": 11,
   "metadata": {},
   "outputs": [],
   "source": [
    "dataset.select_random_years()\n",
    "dataloader = DataLoader(dataset, batch_size=batch_size, shuffle=True)"
   ]
  },
  {
   "cell_type": "code",
   "execution_count": null,
   "metadata": {},
   "outputs": [],
   "source": [
    "data, next_day = next(iter(dataloader))\n",
    "data.shape, next_day.shape"
   ]
  },
  {
   "cell_type": "code",
   "execution_count": 13,
   "metadata": {},
   "outputs": [],
   "source": [
    "loss_function=torch.nn.MSELoss()"
   ]
  },
  {
   "cell_type": "code",
   "execution_count": 14,
   "metadata": {},
   "outputs": [],
   "source": [
    "data_gpu = data.to(device='cuda', dtype=torch.float)\n",
    "next_day_gpu = next_day.to(device='cuda', dtype=torch.float)"
   ]
  },
  {
   "cell_type": "code",
   "execution_count": null,
   "metadata": {},
   "outputs": [],
   "source": [
    "encoded_data_list = []\n",
    "for t in range(data_gpu.shape[1]):\n",
    "    encoded_data_list.append(pretrained_encoder.forward(data_gpu[:,t,:,:,:]))\n",
    "\n",
    "wind_vector = torch.stack(encoded_data_list, dim=1)\n",
    "\n",
    "encoded_data, (_, _) = lstm.forward(wind_vector)\n",
    "result_lstm = encoded_data.reshape(encoded_data.shape[0], -1)\n",
    "decoded_data = decoder.forward(result_lstm)\n",
    "encoded_target = pretrained_encoder.forward(next_day_gpu)\n",
    "loss = loss_function(encoded_target, decoded_data)\n",
    "test_loss = loss.detach() * batch_size / len(dataset)\n",
    "print(test_loss)"
   ]
  },
  {
   "cell_type": "code",
   "execution_count": null,
   "metadata": {},
   "outputs": [],
   "source": [
    "final_data = pretrained_decoder.forward(decoded_data)\n",
    "final_data.shape"
   ]
  },
  {
   "cell_type": "code",
   "execution_count": null,
   "metadata": {},
   "outputs": [],
   "source": [
    "decoded_target = pretrained_decoder.forward(encoded_target)\n",
    "decoded_target.shape"
   ]
  },
  {
   "cell_type": "code",
   "execution_count": null,
   "metadata": {},
   "outputs": [],
   "source": [
    "drawing(final_data, decoded_target, next_day_gpu, [i for i in range(next_day_gpu.shape[0])])"
   ]
  },
  {
   "cell_type": "code",
   "execution_count": null,
   "metadata": {},
   "outputs": [],
   "source": []
  },
  {
   "cell_type": "code",
   "execution_count": null,
   "metadata": {},
   "outputs": [],
   "source": []
  }
 ],
 "metadata": {
  "kernelspec": {
   "display_name": "Python 3",
   "language": "python",
   "name": "python3"
  },
  "language_info": {
   "codemirror_mode": {
    "name": "ipython",
    "version": 3
   },
   "file_extension": ".py",
   "mimetype": "text/x-python",
   "name": "python",
   "nbconvert_exporter": "python",
   "pygments_lexer": "ipython3",
   "version": "3.10.12"
  }
 },
 "nbformat": 4,
 "nbformat_minor": 2
}
