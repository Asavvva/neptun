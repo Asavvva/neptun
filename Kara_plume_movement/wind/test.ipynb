{
 "cells": [
  {
   "cell_type": "code",
   "execution_count": 1,
   "metadata": {},
   "outputs": [],
   "source": [
    "import numpy as np\n",
    "import pickle\n",
    "from torch.utils.data import DataLoader, Sampler\n",
    "import random\n",
    "import os\n",
    "import fnmatch\n",
    "\n",
    "import torch\n",
    "import torch.nn as nn\n",
    "from MLP import MultiLayerPerceptron"
   ]
  },
  {
   "cell_type": "code",
   "execution_count": null,
   "metadata": {},
   "outputs": [],
   "source": [
    "from MyDataPreparationLSTM import CustomDataset"
   ]
  },
  {
   "cell_type": "code",
   "execution_count": null,
   "metadata": {},
   "outputs": [],
   "source": [
    "def find_files(directory, pattern, maxdepth=None):\n",
    "    flist = []\n",
    "    for root, dirs, files in os.walk(directory):\n",
    "        for basename in files:\n",
    "            if fnmatch.fnmatch(basename, pattern):\n",
    "                filename = os.path.join(root, basename)\n",
    "                filename = filename.replace('\\\\\\\\', os.sep)\n",
    "                if maxdepth is None:\n",
    "                    flist.append(filename)\n",
    "                else:\n",
    "                    if filename.count(os.sep)-directory.count(os.sep) <= maxdepth:\n",
    "                        flist.append(filename)\n",
    "    return flist"
   ]
  },
  {
   "cell_type": "code",
   "execution_count": null,
   "metadata": {},
   "outputs": [],
   "source": [
    "wind_files_pkl = find_files('/mnt/hippocamp/asavin/data/wind/wind_arrays_kara_norm', '*.pkl')\n",
    "wind_files_pkl.sort()"
   ]
  },
  {
   "cell_type": "code",
   "execution_count": null,
   "metadata": {},
   "outputs": [],
   "source": [
    "dataset = CustomDataset(wind_files_pkl, num_days=4, num_years=4)\n",
    "dataset.select_random_years()\n",
    "\n",
    "dataloader = DataLoader(dataset, batch_size=16, shuffle=True)"
   ]
  },
  {
   "cell_type": "code",
   "execution_count": null,
   "metadata": {},
   "outputs": [],
   "source": [
    "pretrained_autoencoder_name = 'wind_pre_autoencoder_run002'\n",
    "\n",
    "pretrained_encoder = torch.load(f'/app/Kara_plume_movement/wind/models/model_{pretrained_autoencoder_name}_encoder.pth', map_location=torch.device('cpu'))\n",
    "lstm_network = nn.LSTM(pretrained_encoder.bottleneck, pretrained_encoder.bottleneck, num_layers=4, batch_first=True)\n",
    "lstm_decoder = MultiLayerPerceptron(pretrained_encoder.bottleneck,\n",
    "                                    output_size=pretrained_encoder.bottleneck,\n",
    "                                    hidden_layers=[1024])\n",
    "pretrained_decoder = torch.load(f'/app/Kara_plume_movement/wind/models/model_{pretrained_autoencoder_name}_decoder.pth', map_location=torch.device('cpu'))"
   ]
  },
  {
   "cell_type": "code",
   "execution_count": null,
   "metadata": {},
   "outputs": [],
   "source": [
    "pretrained_encoder = pretrained_encoder.cuda()\n",
    "lstm_network = lstm_network.cuda()\n",
    "lstm_decoder = lstm_decoder.cuda()\n",
    "pretrained_decoder = pretrained_decoder.cuda()"
   ]
  },
  {
   "cell_type": "code",
   "execution_count": null,
   "metadata": {},
   "outputs": [],
   "source": [
    "for batch in dataloader:\n",
    "    sequences, targets = batch\n",
    "    print(\"Последовательность:\", sequences.shape)\n",
    "    print(\"Цель:\", targets.shape)"
   ]
  },
  {
   "cell_type": "code",
   "execution_count": null,
   "metadata": {},
   "outputs": [],
   "source": [
    "data, target = next(iter(dataloader))"
   ]
  },
  {
   "cell_type": "code",
   "execution_count": null,
   "metadata": {},
   "outputs": [],
   "source": [
    "data_gpu = data.to(device='cuda', dtype=torch.float)\n",
    "\n",
    "data_list = data_gpu.unbind(dim=1)\n",
    "encoded_data_list = [pretrained_encoder.forward(t) for t in data_list]\n",
    "decoded_target_list = [pretrained_decoder.forward(t) for t in encoded_data_list]\n",
    "\n",
    "wind_vector = torch.stack(encoded_data_list, dim=1)\n",
    "decoded_target = torch.stack(decoded_target_list, dim=1)\n",
    "wind_vector.shape, decoded_target.shape"
   ]
  },
  {
   "cell_type": "code",
   "execution_count": null,
   "metadata": {},
   "outputs": [],
   "source": [
    "encoded_data, (_, _) = lstm_network.forward(wind_vector)\n",
    "split_tensors = encoded_data.unbind(dim=1)\n",
    "processed_tensors = [pretrained_decoder.forward(lstm_decoder.forward(t)) for t in split_tensors]\n",
    "decoded_data = torch.stack(processed_tensors, dim=1)\n",
    "decoded_data.shape"
   ]
  },
  {
   "cell_type": "code",
   "execution_count": null,
   "metadata": {},
   "outputs": [],
   "source": []
  },
  {
   "cell_type": "code",
   "execution_count": null,
   "metadata": {},
   "outputs": [],
   "source": []
  },
  {
   "cell_type": "code",
   "execution_count": null,
   "metadata": {},
   "outputs": [],
   "source": []
  },
  {
   "cell_type": "code",
   "execution_count": null,
   "metadata": {},
   "outputs": [],
   "source": [
    "data_gpu = batch_data.to(device='cuda', dtype=torch.float)\n",
    "\n",
    "data_list = data_gpu.unbind(dim=1)\n",
    "encoded_data_list = [pretrained_encoder.forward(t) for t in data_list]\n",
    "decoded_target_list = [pretrained_decoder.forward(t) for t in encoded_data_list]\n",
    "\n",
    "wind_vector = torch.stack(encoded_data_list, dim=1)\n",
    "\n",
    "encoded_data, (_, _) = lstm_network.forward(wind_vector)\n",
    "split_tensors = encoded_data.unbind(dim=1)\n",
    "processed_tensors = [pretrained_decoder.forward(lstm_decoder.forward(t)) for t in split_tensors]\n",
    "decoded_data = torch.stack(processed_tensors, dim=1)\n",
    "\n",
    "decoded_target = torch.stack(decoded_target_list, dim=1)\n",
    "\n",
    "loss = loss_function(decoded_target, decoded_data)"
   ]
  },
  {
   "cell_type": "code",
   "execution_count": null,
   "metadata": {},
   "outputs": [],
   "source": [
    "data.shape, target.shape"
   ]
  },
  {
   "cell_type": "code",
   "execution_count": null,
   "metadata": {},
   "outputs": [],
   "source": []
  },
  {
   "cell_type": "code",
   "execution_count": null,
   "metadata": {},
   "outputs": [],
   "source": []
  },
  {
   "cell_type": "code",
   "execution_count": null,
   "metadata": {},
   "outputs": [],
   "source": [
    "len(dataset)"
   ]
  },
  {
   "cell_type": "code",
   "execution_count": null,
   "metadata": {},
   "outputs": [],
   "source": [
    "len(dataset.indices)"
   ]
  },
  {
   "cell_type": "code",
   "execution_count": null,
   "metadata": {},
   "outputs": [],
   "source": [
    "dataset.data.shape"
   ]
  },
  {
   "cell_type": "code",
   "execution_count": null,
   "metadata": {},
   "outputs": [],
   "source": [
    "data_gpu = data.to(device='cuda', dtype=torch.float)\n",
    "next_day_gpu = target.to(device='cuda', dtype=torch.float)"
   ]
  },
  {
   "cell_type": "code",
   "execution_count": null,
   "metadata": {},
   "outputs": [],
   "source": [
    "type(data_gpu)"
   ]
  },
  {
   "cell_type": "code",
   "execution_count": null,
   "metadata": {},
   "outputs": [],
   "source": [
    "pretrained_encoder_name = 'model_wind_pre_autoencoder_run001_encoder'\n",
    "pretrained_encoder = torch.load(f'/app/Kara_plume_movement/wind/models/{pretrained_encoder_name}.pth', map_location=torch.device('cpu'))\n",
    "lstm = nn.LSTM(pretrained_encoder.bottleneck, pretrained_encoder.bottleneck, num_layers=4, batch_first=True)\n",
    "decoder = MultiLayerPerceptron(input_size=dataset.num_days * pretrained_encoder.bottleneck,\n",
    "                               output_size=pretrained_encoder.bottleneck,\n",
    "                               hidden_layers=[1024, 1024, 1024])"
   ]
  },
  {
   "cell_type": "code",
   "execution_count": null,
   "metadata": {},
   "outputs": [],
   "source": [
    "pretrained_encoder = pretrained_encoder.cuda();\n",
    "lstm = lstm.cuda();\n",
    "decoder = decoder.cuda();"
   ]
  },
  {
   "cell_type": "code",
   "execution_count": null,
   "metadata": {},
   "outputs": [],
   "source": [
    "pretrained_encoder.eval()\n",
    "lstm.eval()\n",
    "decoder.eval()"
   ]
  },
  {
   "cell_type": "code",
   "execution_count": null,
   "metadata": {},
   "outputs": [],
   "source": [
    "encoded_data_list = []\n",
    "for t in range(data_gpu.shape[1]):\n",
    "    encoded_data_list.append(pretrained_encoder.forward(data_gpu[:,t,:,:,:]))\n",
    "    \n",
    "wind_vector = torch.stack(encoded_data_list, dim=1)\n",
    "wind_vector.shape"
   ]
  },
  {
   "cell_type": "code",
   "execution_count": null,
   "metadata": {},
   "outputs": [],
   "source": [
    "type(wind_vector)"
   ]
  },
  {
   "cell_type": "code",
   "execution_count": null,
   "metadata": {},
   "outputs": [],
   "source": [
    "encoded_data, (_, _) = lstm.forward(wind_vector)\n",
    "encoded_data.shape"
   ]
  },
  {
   "cell_type": "code",
   "execution_count": null,
   "metadata": {},
   "outputs": [],
   "source": [
    "type(encoded_data)"
   ]
  },
  {
   "cell_type": "code",
   "execution_count": null,
   "metadata": {},
   "outputs": [],
   "source": [
    "result_lstm = encoded_data.reshape(encoded_data.shape[0], -1)\n",
    "result_lstm.shape"
   ]
  },
  {
   "cell_type": "code",
   "execution_count": null,
   "metadata": {},
   "outputs": [],
   "source": [
    "decoded_data = decoder.forward(result_lstm)\n",
    "decoded_data.shape"
   ]
  },
  {
   "cell_type": "code",
   "execution_count": null,
   "metadata": {},
   "outputs": [],
   "source": [
    "encoded_target = pretrained_encoder.forward(next_day_gpu)\n",
    "encoded_target.shape"
   ]
  },
  {
   "cell_type": "code",
   "execution_count": null,
   "metadata": {},
   "outputs": [],
   "source": [
    "loss_function=torch.nn.MSELoss()"
   ]
  },
  {
   "cell_type": "code",
   "execution_count": null,
   "metadata": {},
   "outputs": [],
   "source": [
    "loss = loss_function(encoded_target, decoded_data)\n",
    "loss"
   ]
  },
  {
   "cell_type": "code",
   "execution_count": null,
   "metadata": {},
   "outputs": [],
   "source": []
  },
  {
   "cell_type": "code",
   "execution_count": null,
   "metadata": {},
   "outputs": [],
   "source": []
  },
  {
   "cell_type": "code",
   "execution_count": null,
   "metadata": {},
   "outputs": [],
   "source": []
  },
  {
   "cell_type": "code",
   "execution_count": null,
   "metadata": {},
   "outputs": [],
   "source": []
  },
  {
   "cell_type": "code",
   "execution_count": null,
   "metadata": {},
   "outputs": [],
   "source": []
  }
 ],
 "metadata": {
  "kernelspec": {
   "display_name": "Python 3",
   "language": "python",
   "name": "python3"
  },
  "language_info": {
   "codemirror_mode": {
    "name": "ipython",
    "version": 3
   },
   "file_extension": ".py",
   "mimetype": "text/x-python",
   "name": "python",
   "nbconvert_exporter": "python",
   "pygments_lexer": "ipython3",
   "version": "3.10.12"
  }
 },
 "nbformat": 4,
 "nbformat_minor": 2
}
