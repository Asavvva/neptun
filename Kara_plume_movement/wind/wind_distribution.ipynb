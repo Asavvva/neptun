{
 "cells": [
  {
   "cell_type": "code",
   "execution_count": 1,
   "metadata": {},
   "outputs": [],
   "source": [
    "from netCDF4 import Dataset\n",
    "from matplotlib import pyplot as plt\n",
    "import pandas as pd\n",
    "import numpy as np\n",
    "import datetime\n",
    "from tqdm import tqdm\n",
    "from glob import glob\n",
    "import pickle\n",
    "import random\n",
    "import os\n",
    "import fnmatch\n",
    "\n",
    "import torch\n",
    "import torch.nn as nn\n",
    "from torch.utils.data import DataLoader\n",
    "from torch.utils.data import Dataset as TorchDataset\n",
    "import torch.nn.functional as F\n",
    "from torchvision import datasets, transforms\n",
    "from typing import Tuple, List, Type, Dict, Any\n",
    "from torch.utils.tensorboard import SummaryWriter\n",
    "\n",
    "from SGDR import CosineAnnealingWarmRestarts\n",
    "from mish import Mish\n",
    "from coord_conv import CoordConv\n",
    "from MyResidualNetwork import MyResNet, MyBasicBlock\n",
    "from MyDataPreparation import CustomDataset, Sampler\n",
    "from autoencoder import Encoder, Decoder"
   ]
  },
  {
   "cell_type": "code",
   "execution_count": 2,
   "metadata": {},
   "outputs": [],
   "source": [
    "def find_files(directory, pattern, maxdepth=None):\n",
    "    flist = []\n",
    "    for root, dirs, files in os.walk(directory):\n",
    "        for basename in files:\n",
    "            if fnmatch.fnmatch(basename, pattern):\n",
    "                filename = os.path.join(root, basename)\n",
    "                filename = filename.replace('\\\\\\\\', os.sep)\n",
    "                if maxdepth is None:\n",
    "                    flist.append(filename)\n",
    "                else:\n",
    "                    if filename.count(os.sep)-directory.count(os.sep) <= maxdepth:\n",
    "                        flist.append(filename)\n",
    "    return flist"
   ]
  },
  {
   "cell_type": "code",
   "execution_count": 3,
   "metadata": {},
   "outputs": [],
   "source": [
    "wind_files_pkl = find_files('/mnt/hippocamp/asavin/data/wind/wind_arrays_kara_norm', '*.pkl')\n",
    "wind_files_pkl.sort()"
   ]
  },
  {
   "cell_type": "code",
   "execution_count": 4,
   "metadata": {},
   "outputs": [],
   "source": [
    "dataset = CustomDataset(wind_files_pkl, n_files=len(wind_files_pkl))"
   ]
  },
  {
   "cell_type": "code",
   "execution_count": 5,
   "metadata": {},
   "outputs": [],
   "source": [
    "dataset.make_new_data()"
   ]
  },
  {
   "cell_type": "code",
   "execution_count": null,
   "metadata": {},
   "outputs": [],
   "source": [
    "dataset.wind_array.shape"
   ]
  },
  {
   "cell_type": "code",
   "execution_count": null,
   "metadata": {},
   "outputs": [],
   "source": [
    "channel_0_values_hrs = dataset.wind_array[:, 0, :, :].reshape(-1)\n",
    "channel_1_values_hrs = dataset.wind_array[:, 1, :, :].reshape(-1)\n",
    "\n",
    "plt.figure(figsize=(12, 6))\n",
    "\n",
    "plt.subplot(1, 2, 1)\n",
    "plt.hist(channel_0_values_hrs, bins=100, color='blue', alpha=0.7)\n",
    "plt.title(\"U hourly\")\n",
    "plt.xlabel(\"Value\")\n",
    "plt.ylabel(\"Frequency\")\n",
    "\n",
    "plt.subplot(1, 2, 2)\n",
    "plt.hist(channel_1_values_hrs, bins=100, color='green', alpha=0.7)\n",
    "plt.title(\"V hourly\")\n",
    "plt.xlabel(\"Value\")\n",
    "plt.ylabel(\"Frequency\")"
   ]
  },
  {
   "cell_type": "code",
   "execution_count": null,
   "metadata": {},
   "outputs": [],
   "source": [
    "channel_0_values_hrs.mean(), channel_0_values_hrs.std(), channel_1_values_hrs.mean(), channel_1_values_hrs.std()"
   ]
  },
  {
   "cell_type": "code",
   "execution_count": null,
   "metadata": {},
   "outputs": [],
   "source": []
  },
  {
   "cell_type": "code",
   "execution_count": 9,
   "metadata": {},
   "outputs": [],
   "source": [
    "from MyDataPreparationLSTM import CustomDataset as CustomDatasetLSTM"
   ]
  },
  {
   "cell_type": "code",
   "execution_count": 10,
   "metadata": {},
   "outputs": [],
   "source": [
    "datasetLSTM = CustomDatasetLSTM(wind_files_pkl, num_days=1, num_years=44)"
   ]
  },
  {
   "cell_type": "code",
   "execution_count": 11,
   "metadata": {},
   "outputs": [],
   "source": [
    "datasetLSTM.select_random_years()"
   ]
  },
  {
   "cell_type": "code",
   "execution_count": null,
   "metadata": {},
   "outputs": [],
   "source": [
    "datasetLSTM.data.shape"
   ]
  },
  {
   "cell_type": "code",
   "execution_count": null,
   "metadata": {},
   "outputs": [],
   "source": [
    "channel_0_values_day = datasetLSTM.data[:, 0, :, :].reshape(-1)\n",
    "channel_1_values_day = datasetLSTM.data[:, 1, :, :].reshape(-1)\n",
    "\n",
    "plt.figure(figsize=(12, 6))\n",
    "\n",
    "plt.subplot(1, 2, 1)\n",
    "plt.hist(channel_0_values_day, bins=100, color='blue', alpha=0.7)\n",
    "plt.title(\"U daily\")\n",
    "plt.xlabel(\"Value\")\n",
    "plt.ylabel(\"Frequency\")\n",
    "\n",
    "plt.subplot(1, 2, 2)\n",
    "plt.hist(channel_1_values_day, bins=100, color='green', alpha=0.7)\n",
    "plt.title(\"V daily\")\n",
    "plt.xlabel(\"Value\")\n",
    "plt.ylabel(\"Frequency\")"
   ]
  },
  {
   "cell_type": "code",
   "execution_count": null,
   "metadata": {},
   "outputs": [],
   "source": [
    "channel_0_values_day.mean(), channel_0_values_day.std(), channel_1_values_day.mean(), channel_1_values_day.std()"
   ]
  },
  {
   "cell_type": "code",
   "execution_count": null,
   "metadata": {},
   "outputs": [],
   "source": []
  },
  {
   "cell_type": "code",
   "execution_count": null,
   "metadata": {},
   "outputs": [],
   "source": []
  }
 ],
 "metadata": {
  "kernelspec": {
   "display_name": "Python 3",
   "language": "python",
   "name": "python3"
  },
  "language_info": {
   "codemirror_mode": {
    "name": "ipython",
    "version": 3
   },
   "file_extension": ".py",
   "mimetype": "text/x-python",
   "name": "python",
   "nbconvert_exporter": "python",
   "pygments_lexer": "ipython3",
   "version": "3.10.12"
  }
 },
 "nbformat": 4,
 "nbformat_minor": 2
}
