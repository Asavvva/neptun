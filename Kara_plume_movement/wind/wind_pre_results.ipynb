{
 "cells": [
  {
   "cell_type": "code",
   "execution_count": null,
   "metadata": {},
   "outputs": [],
   "source": [
    "from netCDF4 import Dataset\n",
    "from matplotlib import pyplot as plt\n",
    "import pandas as pd\n",
    "import numpy as np\n",
    "import datetime\n",
    "from tqdm import tqdm\n",
    "from glob import glob\n",
    "import pickle\n",
    "import random\n",
    "import os\n",
    "import fnmatch\n",
    "\n",
    "import torch\n",
    "import torch.nn as nn\n",
    "from torch.utils.data import DataLoader\n",
    "from torch.utils.data import Dataset as TorchDataset\n",
    "import torch.nn.functional as F\n",
    "from torchvision import datasets, transforms\n",
    "from typing import Tuple, List, Type, Dict, Any\n",
    "from torch.utils.tensorboard import SummaryWriter\n",
    "\n",
    "from SGDR import CosineAnnealingWarmRestarts\n",
    "from mish import Mish\n",
    "from coord_conv import CoordConv\n",
    "from MyResidualNetwork import MyResNet, MyBasicBlock\n",
    "from MyDataPreparation import CustomDataset, Sampler\n",
    "from autoencoder import Encoder, Decoder"
   ]
  },
  {
   "cell_type": "code",
   "execution_count": null,
   "metadata": {},
   "outputs": [],
   "source": [
    "def drawing(tensor1, tensor2, indexes):\n",
    "    for i in indexes:\n",
    "        extracted_tensor1_0 = tensor1[i, 0, :, :]\n",
    "        extracted_tensor1_1 = tensor1[i, 1, :, :]\n",
    "        extracted_tensor2_0 = tensor2[i, 0, :, :]\n",
    "        extracted_tensor2_1 = tensor2[i, 1, :, :]\n",
    "\n",
    "        array1_0 = extracted_tensor1_0.detach().cpu().numpy()\n",
    "        array1_1 = extracted_tensor1_1.detach().cpu().numpy()\n",
    "        array2_0 = extracted_tensor2_0.detach().cpu().numpy()\n",
    "        array2_1 = extracted_tensor2_1.detach().cpu().numpy()\n",
    "\n",
    "        vmin = min(array1_0.min(), array1_1.min(), array2_0.min(), array2_1.min())\n",
    "        vmax = max(array1_0.max(), array1_1.max(), array2_0.max(), array2_1.max())\n",
    "\n",
    "        fig, axs = plt.subplots(2, 2, figsize=(8, 8))\n",
    "\n",
    "        cax1 = axs[0, 0].imshow(array1_0, cmap='viridis', aspect='auto', vmin=vmin, vmax=vmax)\n",
    "        axs[0, 0].set_title('Sample U')\n",
    "\n",
    "        cax2 = axs[0, 1].imshow(array1_1, cmap='viridis', aspect='auto', vmin=vmin, vmax=vmax)\n",
    "        axs[0, 1].set_title('Sample V')\n",
    "\n",
    "        cax3 = axs[1, 0].imshow(array2_0, cmap='viridis', aspect='auto', vmin=vmin, vmax=vmax)\n",
    "        axs[1, 0].set_title('Decoded U')\n",
    "\n",
    "        cax4 = axs[1, 1].imshow(array2_1, cmap='viridis', aspect='auto', vmin=vmin, vmax=vmax)\n",
    "        axs[1, 1].set_title('Decoded V')\n",
    "\n",
    "        cbar = fig.colorbar(cax1, ax=axs, orientation='vertical', fraction=0.02, pad=0.04)\n",
    "        cbar.ax.set_ylabel('wind speed')\n",
    "\n",
    "        plt.tight_layout()\n",
    "        plt.show()\n",
    "        \n",
    "        print('--------------------------------------------------------------------------------------------------')"
   ]
  },
  {
   "cell_type": "code",
   "execution_count": null,
   "metadata": {},
   "outputs": [],
   "source": [
    "run_name = 'wind_pre_autoencoder_run004'"
   ]
  },
  {
   "cell_type": "code",
   "execution_count": null,
   "metadata": {},
   "outputs": [],
   "source": [
    "device = torch.device('cuda:1')"
   ]
  },
  {
   "cell_type": "code",
   "execution_count": null,
   "metadata": {},
   "outputs": [],
   "source": [
    "encoder = torch.load(f'/app/Kara_plume_movement/wind/models/model_{run_name}_encoder.pth', map_location=torch.device('cpu'));\n",
    "decoder = torch.load(f'/app/Kara_plume_movement/wind/models/model_{run_name}_decoder.pth', map_location=torch.device('cpu'));"
   ]
  },
  {
   "cell_type": "code",
   "execution_count": null,
   "metadata": {},
   "outputs": [],
   "source": [
    "encoder.eval();\n",
    "decoder.eval();"
   ]
  },
  {
   "cell_type": "code",
   "execution_count": null,
   "metadata": {},
   "outputs": [],
   "source": [
    "encoder = encoder.cuda()\n",
    "decoder = decoder.cuda()"
   ]
  },
  {
   "cell_type": "code",
   "execution_count": null,
   "metadata": {},
   "outputs": [],
   "source": [
    "from wind_pre_autoencoder_004 import validate_single_epoch, find_files"
   ]
  },
  {
   "cell_type": "code",
   "execution_count": null,
   "metadata": {},
   "outputs": [],
   "source": [
    "wind_files_pkl = find_files('/mnt/hippocamp/asavin/data/wind/wind_arrays_kara_norm_n80_s70_w55_e105', '*.pkl')\n",
    "wind_files_pkl.sort()"
   ]
  },
  {
   "cell_type": "code",
   "execution_count": null,
   "metadata": {},
   "outputs": [],
   "source": [
    "dataset = CustomDataset(wind_files_pkl, n_files=30)"
   ]
  },
  {
   "cell_type": "code",
   "execution_count": null,
   "metadata": {},
   "outputs": [],
   "source": [
    "batch_size = 32"
   ]
  },
  {
   "cell_type": "code",
   "execution_count": null,
   "metadata": {},
   "outputs": [],
   "source": [
    "dataset.make_new_data()\n",
    "sampler = Sampler([i for i in range(dataset.wind_array.shape[0])], shuffle=True)\n",
    "dataloader = DataLoader(dataset, batch_size=batch_size, num_workers=8, sampler=sampler)"
   ]
  },
  {
   "cell_type": "code",
   "execution_count": null,
   "metadata": {},
   "outputs": [],
   "source": [
    "dataset.wind_array.shape"
   ]
  },
  {
   "cell_type": "code",
   "execution_count": null,
   "metadata": {},
   "outputs": [],
   "source": [
    "data = next(iter(dataloader))\n",
    "data.shape"
   ]
  },
  {
   "cell_type": "code",
   "execution_count": null,
   "metadata": {},
   "outputs": [],
   "source": [
    "loss_function=torch.nn.MSELoss()"
   ]
  },
  {
   "cell_type": "code",
   "execution_count": null,
   "metadata": {},
   "outputs": [],
   "source": [
    "wind_gpu = data.to(device='cuda', dtype=torch.float)\n",
    "encoded_data = encoder.forward(wind_gpu)\n",
    "decoded_data = decoder.forward(encoded_data)\n",
    "loss = loss_function(wind_gpu, decoded_data)\n",
    "test_loss = loss.detach() * batch_size\n",
    "dataset.clear_cache()"
   ]
  },
  {
   "cell_type": "code",
   "execution_count": null,
   "metadata": {},
   "outputs": [],
   "source": [
    "encoded_data.shape, encoded_data.type()"
   ]
  },
  {
   "cell_type": "code",
   "execution_count": null,
   "metadata": {},
   "outputs": [],
   "source": [
    "test_loss"
   ]
  },
  {
   "cell_type": "code",
   "execution_count": null,
   "metadata": {},
   "outputs": [],
   "source": [
    "drawing(wind_gpu, decoded_data, [i for i in range(wind_gpu.shape[0])])"
   ]
  },
  {
   "cell_type": "code",
   "execution_count": null,
   "metadata": {},
   "outputs": [],
   "source": []
  },
  {
   "cell_type": "code",
   "execution_count": null,
   "metadata": {},
   "outputs": [],
   "source": []
  },
  {
   "cell_type": "code",
   "execution_count": null,
   "metadata": {},
   "outputs": [],
   "source": []
  },
  {
   "cell_type": "code",
   "execution_count": null,
   "metadata": {},
   "outputs": [],
   "source": []
  }
 ],
 "metadata": {
  "kernelspec": {
   "display_name": "Python 3",
   "language": "python",
   "name": "python3"
  },
  "language_info": {
   "codemirror_mode": {
    "name": "ipython",
    "version": 3
   },
   "file_extension": ".py",
   "mimetype": "text/x-python",
   "name": "python",
   "nbconvert_exporter": "python",
   "pygments_lexer": "ipython3",
   "version": "3.10.12"
  }
 },
 "nbformat": 4,
 "nbformat_minor": 2
}
