{
 "cells": [
  {
   "cell_type": "code",
   "execution_count": null,
   "metadata": {},
   "outputs": [],
   "source": [
    "from netCDF4 import Dataset\n",
    "import numpy as np\n",
    "import matplotlib.pyplot as plt\n",
    "from mpl_toolkits.basemap import Basemap\n",
    "import os\n",
    "import fnmatch\n",
    "import datetime"
   ]
  },
  {
   "cell_type": "code",
   "execution_count": null,
   "metadata": {},
   "outputs": [],
   "source": [
    "def drawing(longitude, latitude, sss, time):\n",
    "    fig = plt.figure(figsize=(12, 12), dpi = 300)\n",
    "    m = Basemap(width=1200000, height=1500000,\n",
    "                resolution='l', projection='aea',\n",
    "                lat_1=60, lat_2=65, lon_0=76, lat_0=77)\n",
    "\n",
    "    m.drawcoastlines()\n",
    "    m.fillcontinents(color='grey',lake_color='white')\n",
    "    m.drawparallels(np.arange(-80.,90.,10.), labels=[False,True,True,False])\n",
    "    m.drawmeridians(np.arange(-180.,180.,20.), labels=[True,True,False,True])\n",
    "    m.drawmapboundary(fill_color='white')\n",
    "\n",
    "    m.scatter(longitude, latitude, c=sss,\n",
    "              cmap='jet', latlon=True)\n",
    "    cbar = plt.colorbar(label='SSS', orientation='vertical', shrink=0.30)\n",
    "    plt.title(f'{time.date()}')\n",
    "    font = {'size'   : 12}\n",
    "    plt.rc('font', **font)\n",
    "    ax = plt.gca()\n",
    "    try:\n",
    "        plt.savefig(f'/mnt/hippocamp/asavin/Plume_description/smos/pictures/{time.year}/{time.date()}.png')\n",
    "    except:\n",
    "        os.makedirs(f'/mnt/hippocamp/asavin/Plume_description/smos/pictures/{time.year}')\n",
    "        plt.savefig(f'/mnt/hippocamp/asavin/Plume_description/smos/pictures/{time.year}/{time.date()}.png')\n",
    "    plt.show()\n",
    "    plt.clf()\n",
    "    plt.close('all')"
   ]
  },
  {
   "cell_type": "code",
   "execution_count": null,
   "metadata": {},
   "outputs": [],
   "source": [
    "def find_files(directory, pattern, maxdepth=None):\n",
    "    flist = []\n",
    "    for root, dirs, files in os.walk(directory):\n",
    "        for basename in files:\n",
    "            if fnmatch.fnmatch(basename, pattern):\n",
    "                filename = os.path.join(root, basename)\n",
    "                filename = filename.replace('\\\\\\\\', os.sep)\n",
    "                if maxdepth is None:\n",
    "                    flist.append(filename)\n",
    "                else:\n",
    "                    if filename.count(os.sep)-directory.count(os.sep) <= maxdepth:\n",
    "                        flist.append(filename)\n",
    "    return flist"
   ]
  },
  {
   "cell_type": "code",
   "execution_count": null,
   "metadata": {},
   "outputs": [],
   "source": [
    "dd = []\n",
    "for root, dirs, files in os.walk('/mnt/hippocamp/DATA/sattelite/SMOS/L2OS/MIR_OSUDP2_nc/2014/07'):\n",
    "    dd.append(root)\n",
    "\n",
    "dd.sort()"
   ]
  },
  {
   "cell_type": "code",
   "execution_count": null,
   "metadata": {},
   "outputs": [],
   "source": [
    "for date in dd[24:25]:\n",
    "    files = find_files(date, '*.nc')\n",
    "    if len(files) > 0:\n",
    "        time = datetime.datetime.strptime(date[-11:].strip(\"/\"), \"%Y/%m/%d\")\n",
    "        \n",
    "        lons = np.array([])\n",
    "        lats = np.array([])\n",
    "        SSSs = np.array([])\n",
    "        for file in files:\n",
    "            data = Dataset(file, 'r')\n",
    "\n",
    "            lat = np.asarray(data['Latitude'])\n",
    "            lon = np.asarray(data['Longitude'])\n",
    "            SSS = np.asarray(data['SSS_uncorr'])\n",
    "            mask = (SSS > -999) & (lon >= 50) & (lon <= 110) & (lat >= 67) & (lat <= 85)\n",
    "\n",
    "            lons = np.concatenate((lons, lon[mask]))\n",
    "            lats = np.concatenate((lats, lat[mask]))\n",
    "            SSSs = np.concatenate((SSSs, SSS[mask]))\n",
    "\n",
    "            coords = np.vstack((lats, lons)).T\n",
    "            unique_coords, indices, inverse_indices = np.unique(coords, axis=0, return_index=True, return_inverse=True)\n",
    "            sss_sum = np.bincount(inverse_indices, weights=SSSs)\n",
    "            sss_count = np.bincount(inverse_indices)\n",
    "            sss_mean = sss_sum / sss_count\n",
    "\n",
    "        drawing(unique_coords[:, 1], unique_coords[:, 0], sss_mean, time)"
   ]
  },
  {
   "cell_type": "code",
   "execution_count": null,
   "metadata": {},
   "outputs": [],
   "source": [
    "coords = np.vstack((lats, lons)).T\n",
    "unique_coords, indices, inverse_indices = np.unique(coords, axis=0, return_index=True, return_inverse=True)\n",
    "sss_sum = np.bincount(inverse_indices, weights=SSSs)\n",
    "sss_count = np.bincount(inverse_indices)\n",
    "sss_mean = sss_sum / sss_count"
   ]
  },
  {
   "cell_type": "code",
   "execution_count": null,
   "metadata": {},
   "outputs": [],
   "source": [
    "unique_coords.shape"
   ]
  },
  {
   "cell_type": "code",
   "execution_count": null,
   "metadata": {},
   "outputs": [],
   "source": [
    "unique_coords[:,1].shape"
   ]
  },
  {
   "cell_type": "code",
   "execution_count": null,
   "metadata": {},
   "outputs": [],
   "source": [
    "print(unique_coords)"
   ]
  },
  {
   "cell_type": "code",
   "execution_count": null,
   "metadata": {},
   "outputs": [],
   "source": []
  },
  {
   "cell_type": "code",
   "execution_count": null,
   "metadata": {},
   "outputs": [],
   "source": [
    "# Пример данных\n",
    "lats = np.array([10, 20, 20, 30, 30, 30])\n",
    "lons = np.array([100, 200, 300, 200, 300, 300])\n",
    "sss = np.array([5.0, 6.0, 8.0, 7.0, 9.0, 6.0])\n",
    "\n",
    "# Объединяем координаты в кортежи\n",
    "coords = np.vstack((lats, lons)).T\n",
    "\n",
    "# Находим уникальные координаты\n",
    "unique_coords, indices, inverse_indices = np.unique(coords, axis=0, return_index=True, return_inverse=True)\n",
    "\n",
    "# Усредняем значения SSS для повторяющихся координат\n",
    "sss_sum = np.bincount(inverse_indices, weights=sss)\n",
    "sss_count = np.bincount(inverse_indices)\n",
    "sss_mean = sss_sum / sss_count\n",
    "\n",
    "print(unique_coords)  # Уникальные координаты\n",
    "print(sss_mean) "
   ]
  },
  {
   "cell_type": "code",
   "execution_count": null,
   "metadata": {},
   "outputs": [],
   "source": []
  }
 ],
 "metadata": {
  "kernelspec": {
   "display_name": "Python 3",
   "language": "python",
   "name": "python3"
  },
  "language_info": {
   "codemirror_mode": {
    "name": "ipython",
    "version": 3
   },
   "file_extension": ".py",
   "mimetype": "text/x-python",
   "name": "python",
   "nbconvert_exporter": "python",
   "pygments_lexer": "ipython3",
   "version": "3.10.12"
  }
 },
 "nbformat": 4,
 "nbformat_minor": 2
}
