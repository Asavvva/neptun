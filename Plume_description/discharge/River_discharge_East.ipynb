{
 "cells": [
  {
   "cell_type": "code",
   "execution_count": null,
   "id": "f7597377",
   "metadata": {},
   "outputs": [],
   "source": [
    "from matplotlib import pyplot as plt\n",
    "import pandas as pd\n",
    "import numpy as np\n",
    "import matplotlib.dates as mdates"
   ]
  },
  {
   "cell_type": "code",
   "execution_count": null,
   "id": "b34d7bf6",
   "metadata": {},
   "outputs": [],
   "source": [
    "Lena_data = pd.read_excel('/app/data/river_discharge/Lena_Kyusyur_Version_20250327.xlsx')\n",
    "Lena_data['date'] = pd.to_datetime(Lena_data['date'])\n",
    "Lena_data = Lena_data[(Lena_data['date'].dt.year >= 2015) & (Lena_data['date'].dt.year <= 2024)]"
   ]
  },
  {
   "cell_type": "code",
   "execution_count": null,
   "id": "bb945c37",
   "metadata": {},
   "outputs": [],
   "source": [
    "Yana_data = pd.read_excel('/app/data/river_discharge/Yana_Ubileynaya_Version_20250327.xlsx')\n",
    "Yana_data['date'] = pd.to_datetime(Yana_data['date'])\n",
    "Yana_data = Yana_data[(Yana_data['date'].dt.year >= 2015) & (Yana_data['date'].dt.year <= 2024)]"
   ]
  },
  {
   "cell_type": "code",
   "execution_count": null,
   "id": "e5620e23",
   "metadata": {},
   "outputs": [],
   "source": [
    "Indigirka_data = pd.read_excel('/app/data/river_discharge/Indigirka_Indigirskiy_Version_20250327.xlsx')\n",
    "Indigirka_data['date'] = pd.to_datetime(Indigirka_data['date'])\n",
    "Indigirka_data = Indigirka_data[(Indigirka_data['date'].dt.year >= 2015) & (Indigirka_data['date'].dt.year <= 2024)]"
   ]
  },
  {
   "cell_type": "code",
   "execution_count": null,
   "id": "6422891a",
   "metadata": {},
   "outputs": [],
   "source": [
    "Kolyma_data = pd.read_excel('/app/data/river_discharge/Kolyma_Kolymskoe_Version_20250327.xlsx')\n",
    "Kolyma_data['date'] = pd.to_datetime(Kolyma_data['date'])\n",
    "Kolyma_data = Kolyma_data[(Kolyma_data['date'].dt.year >= 2015) & (Kolyma_data['date'].dt.year <= 2024)]"
   ]
  },
  {
   "cell_type": "code",
   "execution_count": null,
   "id": "e70643d3",
   "metadata": {},
   "outputs": [],
   "source": [
    "Olenek_data = pd.read_excel('/app/data/river_discharge/Olenek_7.5_km_down_of_Buur.s_mouth_Version_20250327.xlsx')\n",
    "Olenek_data['date'] = pd.to_datetime(Olenek_data['date'])\n",
    "Olenek_data = Olenek_data[(Olenek_data['date'].dt.year >= 2015) & (Olenek_data['date'].dt.year <= 2024)]"
   ]
  },
  {
   "cell_type": "code",
   "execution_count": null,
   "id": "0fdb08d7",
   "metadata": {},
   "outputs": [],
   "source": [
    "sec_in_day = 60*60*24\n",
    "Lena_data['discharge'] *= sec_in_day\n",
    "Yana_data['discharge'] *= sec_in_day\n",
    "Indigirka_data['discharge'] *= sec_in_day\n",
    "Kolyma_data['discharge'] *= sec_in_day\n",
    "Olenek_data['discharge'] *= sec_in_day"
   ]
  },
  {
   "cell_type": "code",
   "execution_count": null,
   "id": "259b3624",
   "metadata": {},
   "outputs": [],
   "source": [
    "Lena_annual = Lena_data.groupby(Lena_data['date'].dt.year)['discharge'].sum()\n",
    "Yana_annual = Yana_data[Yana_data['discharge'].notna()].groupby(Yana_data['date'].dt.year)['discharge'].sum()\n",
    "Indigirka_annual = Indigirka_data[Indigirka_data['discharge'].notna()].groupby(Indigirka_data['date'].dt.year)['discharge'].sum()\n",
    "Kolyma_annual = Kolyma_data[Kolyma_data['discharge'].notna()].groupby(Kolyma_data['date'].dt.year)['discharge'].sum()\n",
    "Olenek_annual = Olenek_data[Olenek_data['discharge'].notna()].groupby(Olenek_data['date'].dt.year)['discharge'].sum()"
   ]
  },
  {
   "cell_type": "code",
   "execution_count": null,
   "id": "0c18b604",
   "metadata": {},
   "outputs": [],
   "source": [
    "data_annual = [Lena_annual, Yana_annual, Indigirka_annual, Kolyma_annual, Olenek_annual]\n",
    "labels = ['Lena', 'Yana', 'Indigirka', 'Kolyma', 'Olenek']\n",
    "years = np.arange(2015, 2025)\n",
    "aligned = [s.reindex(years) for s in data_annual]\n",
    "values = np.array([s.values for s in aligned])"
   ]
  },
  {
   "cell_type": "code",
   "execution_count": null,
   "id": "4744b30c",
   "metadata": {},
   "outputs": [],
   "source": [
    "x = np.arange(len(years))  # позиции по оси X\n",
    "width = 0.8 / len(data_annual)  # ширина одного столбца\n",
    "\n",
    "plt.figure(figsize=(12, 6), dpi=300)\n",
    "\n",
    "for i in range(len(data_annual)):\n",
    "    plt.bar(x + i * width, values[i] / 1e9, width=width, label=labels[i])\n",
    "\n",
    "plt.xticks(x + width * (len(data_annual) - 1) / 2, years, rotation=45)\n",
    "# plt.xlabel('Год')\n",
    "plt.ylabel('Сток, км3')\n",
    "plt.title('Межгодовая изменчивость стоков рек в Восточной Арктике')\n",
    "plt.legend()\n",
    "plt.grid(axis='y')\n",
    "plt.tight_layout()\n",
    "plt.show()\n",
    "plt.savefig(f'discharge_pictures/East_rivers_discharge', dpi=300, bbox_inches='tight')"
   ]
  },
  {
   "cell_type": "code",
   "execution_count": null,
   "id": "2fbe9446",
   "metadata": {},
   "outputs": [],
   "source": []
  },
  {
   "cell_type": "code",
   "execution_count": null,
   "id": "7e9639a7",
   "metadata": {},
   "outputs": [],
   "source": []
  },
  {
   "cell_type": "code",
   "execution_count": null,
   "id": "03c07f4e",
   "metadata": {},
   "outputs": [],
   "source": [
    "fig, ax = plt.subplots(dpi=300)\n",
    "ax.plot(Lena_data[(Lena_data['date'].dt.year == 2015)]['date'].dt.strftime('%d.%m'),\n",
    "                        Lena_data[(Lena_data['date'].dt.year == 2015)]['discharge'] / 1e9, label='2015', color='r')\n",
    "ax.plot(Lena_data[(Lena_data['date'].dt.year == 2016)]['date'].dt.strftime('%d.%m'),\n",
    "                        Lena_data[(Lena_data['date'].dt.year == 2016)]['discharge'] / 1e9, label='2016', color='b')\n",
    "ax.plot(Lena_data[(Lena_data['date'].dt.year == 2017)]['date'].dt.strftime('%d.%m'),\n",
    "                        Lena_data[(Lena_data['date'].dt.year == 2017)]['discharge'] / 1e9, label='2017', color='c')\n",
    "ax.plot(Lena_data[(Lena_data['date'].dt.year == 2018)]['date'].dt.strftime('%d.%m'),\n",
    "                        Lena_data[(Lena_data['date'].dt.year == 2018)]['discharge'] / 1e9, label='2018', color='y')\n",
    "ax.plot(Lena_data[(Lena_data['date'].dt.year == 2019)]['date'].dt.strftime('%d.%m'),\n",
    "                        Lena_data[(Lena_data['date'].dt.year == 2019)]['discharge'] / 1e9, label='2019', color='g')\n",
    "ax.plot(Lena_data[(Lena_data['date'].dt.year == 2020)]['date'].dt.strftime('%d.%m'),\n",
    "                        Lena_data[(Lena_data['date'].dt.year == 2020)]['discharge'] / 1e9, label='2020', color='orange')\n",
    "ax.plot(Lena_data[(Lena_data['date'].dt.year == 2021)]['date'].dt.strftime('%d.%m'),\n",
    "                        Lena_data[(Lena_data['date'].dt.year == 2021)]['discharge'] / 1e9, label='2021', color='k')\n",
    "ax.plot(Lena_data[(Lena_data['date'].dt.year == 2022)]['date'].dt.strftime('%d.%m'),\n",
    "                        Lena_data[(Lena_data['date'].dt.year == 2022)]['discharge'] / 1e9, label='2022', color='m')\n",
    "ax.plot(Lena_data[(Lena_data['date'].dt.year == 2023)]['date'].dt.strftime('%d.%m'),\n",
    "                        Lena_data[(Lena_data['date'].dt.year == 2023)]['discharge'] / 1e9, label='2023', color='pink')\n",
    "ax.plot(Lena_data[(Lena_data['date'].dt.year == 2024)]['date'].dt.strftime('%d.%m'),\n",
    "                        Lena_data[(Lena_data['date'].dt.year == 2024)]['discharge'] / 1e9, label='2024', color='#99ccff')\n",
    "\n",
    "ax.plot(Kolyma_data[(Kolyma_data['date'].dt.year == 2015)]['date'].dt.strftime('%d.%m'),\n",
    "                        Kolyma_data[(Kolyma_data['date'].dt.year == 2015)]['discharge'] / 1e9, linestyle='--', color='r')\n",
    "ax.plot(Kolyma_data[(Kolyma_data['date'].dt.year == 2016)]['date'].dt.strftime('%d.%m'),\n",
    "                        Kolyma_data[(Kolyma_data['date'].dt.year == 2016)]['discharge'] / 1e9, linestyle='--', color='b')\n",
    "ax.plot(Kolyma_data[(Kolyma_data['date'].dt.year == 2017)]['date'].dt.strftime('%d.%m'),\n",
    "                        Kolyma_data[(Kolyma_data['date'].dt.year == 2017)]['discharge'] / 1e9, linestyle='--', color='c')\n",
    "ax.plot(Kolyma_data[(Kolyma_data['date'].dt.year == 2018)]['date'].dt.strftime('%d.%m'),\n",
    "                        Kolyma_data[(Kolyma_data['date'].dt.year == 2018)]['discharge'] / 1e9, linestyle='--', color='y')\n",
    "ax.plot(Kolyma_data[(Kolyma_data['date'].dt.year == 2019)]['date'].dt.strftime('%d.%m'),\n",
    "                        Kolyma_data[(Kolyma_data['date'].dt.year == 2019)]['discharge'] / 1e9, linestyle='--', color='g')\n",
    "ax.plot(Kolyma_data[(Kolyma_data['date'].dt.year == 2020)]['date'].dt.strftime('%d.%m'),\n",
    "                        Kolyma_data[(Kolyma_data['date'].dt.year == 2020)]['discharge'] / 1e9, linestyle='--', color='orange')\n",
    "ax.plot(Kolyma_data[(Kolyma_data['date'].dt.year == 2021)]['date'].dt.strftime('%d.%m'),\n",
    "                        Kolyma_data[(Kolyma_data['date'].dt.year == 2021)]['discharge'] / 1e9, linestyle='--', color='k')\n",
    "ax.plot(Kolyma_data[(Kolyma_data['date'].dt.year == 2022)]['date'].dt.strftime('%d.%m'),\n",
    "                        Kolyma_data[(Kolyma_data['date'].dt.year == 2022)]['discharge'] / 1e9, linestyle='--', color='m')\n",
    "ax.plot(Kolyma_data[(Kolyma_data['date'].dt.year == 2023)]['date'].dt.strftime('%d.%m'),\n",
    "                        Kolyma_data[(Kolyma_data['date'].dt.year == 2023)]['discharge'] / 1e9, linestyle='--', color='pink')\n",
    "ax.plot(Kolyma_data[(Kolyma_data['date'].dt.year == 2024)]['date'].dt.strftime('%d.%m'),\n",
    "                        Kolyma_data[(Kolyma_data['date'].dt.year == 2024)]['discharge'] / 1e9, linestyle='--', color='#99ccff')\n",
    "\n",
    "plt.ylabel('Сток, км3')\n",
    "plt.title('Сток Лены и Колымы')\n",
    "\n",
    "locator = mdates.DayLocator(bymonthday=1)\n",
    "formatter = mdates.DateFormatter('%d.%m')\n",
    "\n",
    "ax.xaxis.set_major_locator(locator)\n",
    "ax.xaxis.set_major_formatter(formatter)\n",
    "\n",
    "plt.xticks(rotation=45)\n",
    "plt.tight_layout()\n",
    "\n",
    "# Добавляем легенду\n",
    "plt.legend()\n",
    "\n",
    "plt.savefig(f'discharge_pictures/East_sum_discharge', dpi=300, bbox_inches='tight')"
   ]
  },
  {
   "cell_type": "code",
   "execution_count": null,
   "id": "88a117e5",
   "metadata": {},
   "outputs": [],
   "source": [
    "Lena_flood = Lena_data[(Lena_data.date.dt.month >= 5) & (Lena_data.date.dt.month <= 8)].groupby(Lena_data.date.dt.year)['discharge'].sum()\n",
    "Lena_flood / 1e9"
   ]
  },
  {
   "cell_type": "code",
   "execution_count": null,
   "id": "7878b26e",
   "metadata": {},
   "outputs": [],
   "source": [
    "Kolyma_flood = Kolyma_data[(Kolyma_data.date.dt.month >= 5) & (Kolyma_data.date.dt.month <= 8)].groupby(Kolyma_data.date.dt.year)['discharge'].sum()\n",
    "Kolyma_flood / 1e9"
   ]
  },
  {
   "cell_type": "code",
   "execution_count": null,
   "id": "5bd1d78c",
   "metadata": {},
   "outputs": [],
   "source": [
    "Indigirka_flood = Indigirka_data[(Indigirka_data.date.dt.month >= 5) & (Indigirka_data.date.dt.month <= 8)].groupby(Indigirka_data.date.dt.year)['discharge'].sum()\n",
    "Indigirka_flood / 1e9"
   ]
  },
  {
   "cell_type": "code",
   "execution_count": null,
   "id": "d78d91bd",
   "metadata": {},
   "outputs": [],
   "source": [
    "a = Lena_data.groupby(Lena_data.date.dt.year)['discharge'].sum()\n",
    "a / 1e9"
   ]
  },
  {
   "cell_type": "code",
   "execution_count": null,
   "id": "8ac6161d",
   "metadata": {},
   "outputs": [],
   "source": [
    "[i / j for i,j in zip(Lena_flood, a)]"
   ]
  },
  {
   "cell_type": "code",
   "execution_count": null,
   "id": "f26006b3",
   "metadata": {},
   "outputs": [],
   "source": [
    "s = [360, 290, 455, 485, 730, 495, 455, 580, 540, 800]"
   ]
  },
  {
   "cell_type": "code",
   "execution_count": null,
   "id": "e2f15d73",
   "metadata": {},
   "outputs": [],
   "source": [
    "flood_total = [Lena_flood[2015],\n",
    "               Lena_flood[2016] + Kolyma_flood[2016] + Indigirka_flood[2016],\n",
    "               Lena_flood[2017],\n",
    "               Lena_flood[2018] + Kolyma_flood[2018] + Indigirka_flood[2018],\n",
    "               Lena_flood[2019] + Kolyma_flood[2019] + Indigirka_flood[2019],\n",
    "               Lena_flood[2020] + Indigirka_flood[2020],\n",
    "               Lena_flood[2021] + Kolyma_flood[2021] + Indigirka_flood[2021],\n",
    "               Lena_flood[2022] + Indigirka_flood[2022],\n",
    "               Lena_flood[2023] + Kolyma_flood[2023] + Indigirka_flood[2023],\n",
    "               Lena_flood[2024] + Kolyma_flood[2024] + Indigirka_flood[2024]]\n",
    "flood_total = [a / 1e9 for a in flood_total]"
   ]
  },
  {
   "cell_type": "code",
   "execution_count": null,
   "id": "f92d8790",
   "metadata": {},
   "outputs": [],
   "source": [
    "flood_total"
   ]
  },
  {
   "cell_type": "code",
   "execution_count": null,
   "id": "ec808768",
   "metadata": {},
   "outputs": [],
   "source": [
    "s1 = [360, np.nan, 455, np.nan, np.nan, 495, np.nan, 580, np.nan, np.nan]\n",
    "flood1 = np.where(np.isnan(s1), np.nan, flood_total)"
   ]
  },
  {
   "cell_type": "code",
   "execution_count": null,
   "id": "b8448c09",
   "metadata": {},
   "outputs": [],
   "source": [
    "s2 = [np.nan, 290, np.nan, 485, np.nan, np.nan, 455, np.nan, 540, np.nan]\n",
    "flood2 = np.where(np.isnan(s2), np.nan, flood_total)"
   ]
  },
  {
   "cell_type": "code",
   "execution_count": null,
   "id": "91cb219c",
   "metadata": {},
   "outputs": [],
   "source": [
    "s3 = [np.nan, np.nan, np.nan, np.nan, 730, np.nan, np.nan, np.nan, np.nan, 800]\n",
    "flood3 = np.where(np.isnan(s3), np.nan, flood_total)"
   ]
  },
  {
   "cell_type": "code",
   "execution_count": null,
   "id": "273a6b0e",
   "metadata": {},
   "outputs": [],
   "source": [
    "fig = plt.figure(dpi=300)\n",
    "plt.plot(flood1, s1, marker='o', linestyle='None', color='blue')\n",
    "plt.plot(flood2, s2, marker='o', linestyle='None', color='red')\n",
    "plt.plot(flood3, s3, marker='o', linestyle='None', color='green')\n",
    "\n",
    "plt.ylabel('Площадь, тыс. км2')\n",
    "plt.xlabel('Объем речного стока в половодье, км3')\n",
    "# plt.title('Зависимость площади плюма Лены от суммарного стока за период половодья')\n",
    "plt.savefig(f'discharge_pictures/East_area_discharge', dpi=300, bbox_inches='tight')"
   ]
  },
  {
   "cell_type": "code",
   "execution_count": null,
   "id": "ab08fe33",
   "metadata": {},
   "outputs": [],
   "source": [
    "ss = [263, 114, 318, 244, 203, 255, 225, 370, 176, 325]"
   ]
  },
  {
   "cell_type": "code",
   "execution_count": null,
   "id": "4be383a8",
   "metadata": {},
   "outputs": [],
   "source": [
    "fig = plt.figure(dpi=300)\n",
    "plt.plot(Lena_flood / 1e9, ss, marker='o', linestyle='None', color='blue')\n",
    "x_valid = np.asarray(Lena_flood)\n",
    "y_valid = np.asarray(s)\n",
    "\n",
    "# coeffs = np.polyfit(x_valid, y_valid, deg=1)\n",
    "# k, b = coeffs\n",
    "\n",
    "# x_line = np.linspace(np.min(x_valid), np.max(x_valid), 100)\n",
    "# y_line = k * x_line + b\n",
    "\n",
    "# Строим прямую линию по оставшимся точкам\n",
    "# plt.plot(x_line / 1e9, y_line, color='red', label=f'Линия наим. квадратов: y = {k:.2f}x + {b:.2f}')\n",
    "plt.ylabel('Площадь, тыс. км2')\n",
    "plt.xlabel('Объем речного стока в половодье, км3')\n",
    "plt.title('Зависимость площади плюма Лены от суммарного стока за период половодья')"
   ]
  },
  {
   "cell_type": "code",
   "execution_count": null,
   "id": "2bc3bfbd",
   "metadata": {},
   "outputs": [],
   "source": []
  },
  {
   "cell_type": "code",
   "execution_count": null,
   "id": "9d14ed6b",
   "metadata": {},
   "outputs": [],
   "source": [
    "Indigirka_year = Indigirka_data.groupby(Indigirka_data.date.dt.year)['discharge'].sum()\n",
    "Indigirka_year[1:].mean() /1e9"
   ]
  },
  {
   "cell_type": "code",
   "execution_count": null,
   "id": "9890f533",
   "metadata": {},
   "outputs": [],
   "source": [
    "Lena_year = Lena_data.groupby(Lena_data.date.dt.year)['discharge'].sum()\n",
    "Lena_year.mean() / 1e9"
   ]
  },
  {
   "cell_type": "code",
   "execution_count": null,
   "id": "5abbd084",
   "metadata": {},
   "outputs": [],
   "source": [
    "Olenek_year = Olenek_data.groupby(Olenek_data.date.dt.year)['discharge'].sum()\n",
    "Olenek_year[1:].mean() / 1e9"
   ]
  },
  {
   "cell_type": "code",
   "execution_count": null,
   "id": "b75637ac",
   "metadata": {},
   "outputs": [],
   "source": [
    "Yana_year = Yana_data.groupby(Yana_data.date.dt.year)['discharge'].sum()\n",
    "Yana_year[2:].mean() / 1e9"
   ]
  },
  {
   "cell_type": "code",
   "execution_count": null,
   "id": "34e268bb",
   "metadata": {},
   "outputs": [],
   "source": [
    "Kolyma_year = Kolyma_data.groupby(Kolyma_data.date.dt.year)['discharge'].sum()\n",
    "Kolyma_year[2:].mean() / 1e9"
   ]
  },
  {
   "cell_type": "code",
   "execution_count": null,
   "id": "60198ff8",
   "metadata": {},
   "outputs": [],
   "source": [
    "discharge_mean = [525, 85.3, 35.8, 34.3, 61, 132, 121.6]\n",
    "names = ['Lena', 'Khatanga', 'Olenek', 'Yana', 'Indigirka', 'Kolyma', 'others']"
   ]
  },
  {
   "cell_type": "code",
   "execution_count": null,
   "id": "000144c1",
   "metadata": {},
   "outputs": [],
   "source": [
    "plt.figure(figsize=(8, 8))\n",
    "plt.pie(discharge_mean, labels=names, autopct='%1.1f%%', startangle=180)\n",
    "plt.show()"
   ]
  },
  {
   "cell_type": "code",
   "execution_count": null,
   "id": "e0088f65",
   "metadata": {},
   "outputs": [],
   "source": [
    "plt.figure(figsize=(8, 8))\n",
    "plt.pie(discharge_mean, labels=names, startangle=180)\n",
    "plt.show()"
   ]
  },
  {
   "cell_type": "code",
   "execution_count": null,
   "id": "461fa7e0",
   "metadata": {},
   "outputs": [],
   "source": []
  }
 ],
 "metadata": {
  "kernelspec": {
   "display_name": "Python 3",
   "language": "python",
   "name": "python3"
  },
  "language_info": {
   "codemirror_mode": {
    "name": "ipython",
    "version": 3
   },
   "file_extension": ".py",
   "mimetype": "text/x-python",
   "name": "python",
   "nbconvert_exporter": "python",
   "pygments_lexer": "ipython3",
   "version": "3.10.12"
  }
 },
 "nbformat": 4,
 "nbformat_minor": 5
}
