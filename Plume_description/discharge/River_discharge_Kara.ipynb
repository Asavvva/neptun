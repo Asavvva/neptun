{
 "cells": [
  {
   "cell_type": "code",
   "execution_count": null,
   "id": "11fffb44",
   "metadata": {},
   "outputs": [],
   "source": [
    "from matplotlib import pyplot as plt\n",
    "import pandas as pd\n",
    "import numpy as np\n",
    "import matplotlib.dates as mdates"
   ]
  },
  {
   "cell_type": "code",
   "execution_count": null,
   "id": "990e7da2",
   "metadata": {},
   "outputs": [],
   "source": [
    "Ob_data = pd.read_excel('/app/data/river_discharge/Ob_Salekhard_Version_20240125.xlsx')\n",
    "Ob_data['date'] = pd.to_datetime(Ob_data['date'])\n",
    "Ob_data = Ob_data[(Ob_data['date'].dt.year >= 2015) & (Ob_data['date'].dt.year <= 2024)]"
   ]
  },
  {
   "cell_type": "code",
   "execution_count": null,
   "id": "7f8bc2c5",
   "metadata": {},
   "outputs": [],
   "source": [
    "Yenisei_data = pd.read_excel('/app/data/river_discharge/Yenisei_Igarka_Version_20240125.xlsx')\n",
    "Yenisei_data['date'] = pd.to_datetime(Yenisei_data['date'])\n",
    "Yenisei_data = Yenisei_data[(Yenisei_data['date'].dt.year >= 2015) & (Yenisei_data['date'].dt.year <= 2024)]"
   ]
  },
  {
   "cell_type": "code",
   "execution_count": null,
   "id": "79ae78b4",
   "metadata": {},
   "outputs": [],
   "source": [
    "Discharge_data = pd.merge(Ob_data, Yenisei_data, on='date', suffixes=('_Ob', '_Yenisei'))\n",
    "Discharge_data['discharge_total'] = Discharge_data['discharge_Ob'] + Discharge_data['discharge_Yenisei']\n",
    "Discharge_data = Discharge_data[['date', 'discharge_Ob', 'discharge_Yenisei', 'discharge_total']]"
   ]
  },
  {
   "cell_type": "code",
   "execution_count": null,
   "id": "2cbd21c2",
   "metadata": {},
   "outputs": [],
   "source": [
    "sec_in_day = 60*60*24\n",
    "Discharge_data['discharge_Ob'] *= sec_in_day\n",
    "Discharge_data['discharge_Yenisei'] *= sec_in_day\n",
    "Discharge_data['discharge_total'] *= sec_in_day"
   ]
  },
  {
   "cell_type": "code",
   "execution_count": null,
   "id": "6ee1ee69",
   "metadata": {},
   "outputs": [],
   "source": [
    "Discharge_data"
   ]
  },
  {
   "cell_type": "code",
   "execution_count": null,
   "id": "a3513f44",
   "metadata": {},
   "outputs": [],
   "source": [
    "plt.plot(Discharge_data[(Discharge_data['date'].dt.year == 2015)]['date'],\n",
    "                        Discharge_data[(Discharge_data['date'].dt.year == 2015)]['discharge_Ob'], label='2015', color='r')\n",
    "plt.plot(Discharge_data[(Discharge_data['date'].dt.year == 2015)]['date'],\n",
    "                        Discharge_data[(Discharge_data['date'].dt.year == 2016)]['discharge_Ob'][:-1], label='2016', color='b')\n",
    "plt.plot(Discharge_data[(Discharge_data['date'].dt.year == 2015)]['date'],\n",
    "                        Discharge_data[(Discharge_data['date'].dt.year == 2017)]['discharge_Ob'], label='2017', color='c')\n",
    "plt.plot(Discharge_data[(Discharge_data['date'].dt.year == 2015)]['date'],\n",
    "                        Discharge_data[(Discharge_data['date'].dt.year == 2018)]['discharge_Ob'], label='2018', color='y')\n",
    "plt.plot(Discharge_data[(Discharge_data['date'].dt.year == 2015)]['date'],\n",
    "                        Discharge_data[(Discharge_data['date'].dt.year == 2019)]['discharge_Ob'], label='2019', color='g')\n",
    "plt.plot(Discharge_data[(Discharge_data['date'].dt.year == 2015)]['date'],\n",
    "                        Discharge_data[(Discharge_data['date'].dt.year == 2020)]['discharge_Ob'][:-1], label='2020', color='orange')\n",
    "plt.plot(Discharge_data[(Discharge_data['date'].dt.year == 2015)]['date'],\n",
    "                        Discharge_data[(Discharge_data['date'].dt.year == 2021)]['discharge_Ob'], label='2021', color='k')\n",
    "plt.plot(Discharge_data[(Discharge_data['date'].dt.year == 2015)]['date'],\n",
    "                        Discharge_data[(Discharge_data['date'].dt.year == 2022)]['discharge_Ob'], label='2022', color='m')\n",
    "plt.plot(Discharge_data[(Discharge_data['date'].dt.year == 2015)]['date'],\n",
    "                        Discharge_data[(Discharge_data['date'].dt.year == 2023)]['discharge_Ob'], label='2023', color='pink')\n",
    "\n",
    "# Добавляем легенду\n",
    "plt.legend()"
   ]
  },
  {
   "cell_type": "code",
   "execution_count": null,
   "id": "6e9c262c",
   "metadata": {},
   "outputs": [],
   "source": [
    "plt.plot(Discharge_data[(Discharge_data['date'].dt.year == 2015)]['date'],\n",
    "                        Discharge_data[(Discharge_data['date'].dt.year == 2015)]['discharge_Yenisei'], label='2015', color='r')\n",
    "plt.plot(Discharge_data[(Discharge_data['date'].dt.year == 2015)]['date'],\n",
    "                        Discharge_data[(Discharge_data['date'].dt.year == 2016)]['discharge_Yenisei'][:-1], label='2016', color='b')\n",
    "plt.plot(Discharge_data[(Discharge_data['date'].dt.year == 2015)]['date'],\n",
    "                        Discharge_data[(Discharge_data['date'].dt.year == 2017)]['discharge_Yenisei'], label='2017', color='c')\n",
    "plt.plot(Discharge_data[(Discharge_data['date'].dt.year == 2015)]['date'],\n",
    "                        Discharge_data[(Discharge_data['date'].dt.year == 2018)]['discharge_Yenisei'], label='2018', color='y')\n",
    "plt.plot(Discharge_data[(Discharge_data['date'].dt.year == 2015)]['date'],\n",
    "                        Discharge_data[(Discharge_data['date'].dt.year == 2019)]['discharge_Yenisei'], label='2019', color='g')\n",
    "plt.plot(Discharge_data[(Discharge_data['date'].dt.year == 2015)]['date'],\n",
    "                        Discharge_data[(Discharge_data['date'].dt.year == 2020)]['discharge_Yenisei'][:-1], label='2020', color='orange')\n",
    "plt.plot(Discharge_data[(Discharge_data['date'].dt.year == 2015)]['date'],\n",
    "                        Discharge_data[(Discharge_data['date'].dt.year == 2021)]['discharge_Yenisei'], label='2021', color='k')\n",
    "plt.plot(Discharge_data[(Discharge_data['date'].dt.year == 2015)]['date'],\n",
    "                        Discharge_data[(Discharge_data['date'].dt.year == 2022)]['discharge_Yenisei'], label='2022', color='m')\n",
    "plt.plot(Discharge_data[(Discharge_data['date'].dt.year == 2015)]['date'],\n",
    "                        Discharge_data[(Discharge_data['date'].dt.year == 2023)]['discharge_Yenisei'], label='2023', color='pink')\n",
    "\n",
    "# Добавляем легенду\n",
    "plt.legend()"
   ]
  },
  {
   "cell_type": "code",
   "execution_count": null,
   "id": "27c87cc9",
   "metadata": {},
   "outputs": [],
   "source": [
    "fig, ax = plt.subplots(dpi=300)\n",
    "ax.plot(Discharge_data[(Discharge_data['date'].dt.year == 2015)]['date'].dt.strftime('%d.%m'),\n",
    "                        Discharge_data[(Discharge_data['date'].dt.year == 2015)]['discharge_total'] / 1e9, label='2015', color='r')\n",
    "ax.plot(Discharge_data[(Discharge_data['date'].dt.year == 2015)]['date'].dt.strftime('%d.%m'),\n",
    "                        Discharge_data[(Discharge_data['date'].dt.year == 2016)]['discharge_total'][:-1] / 1e9, label='2016', color='b')\n",
    "ax.plot(Discharge_data[(Discharge_data['date'].dt.year == 2015)]['date'].dt.strftime('%d.%m'),\n",
    "                        Discharge_data[(Discharge_data['date'].dt.year == 2017)]['discharge_total'] / 1e9, label='2017', color='c')\n",
    "ax.plot(Discharge_data[(Discharge_data['date'].dt.year == 2015)]['date'].dt.strftime('%d.%m'),\n",
    "                        Discharge_data[(Discharge_data['date'].dt.year == 2018)]['discharge_total'] / 1e9, label='2018', color='y')\n",
    "ax.plot(Discharge_data[(Discharge_data['date'].dt.year == 2015)]['date'].dt.strftime('%d.%m'),\n",
    "                        Discharge_data[(Discharge_data['date'].dt.year == 2019)]['discharge_total'] / 1e9, label='2019', color='g')\n",
    "ax.plot(Discharge_data[(Discharge_data['date'].dt.year == 2015)]['date'].dt.strftime('%d.%m'),\n",
    "                        Discharge_data[(Discharge_data['date'].dt.year == 2020)]['discharge_total'][:-1] / 1e9, label='2020', color='orange')\n",
    "ax.plot(Discharge_data[(Discharge_data['date'].dt.year == 2015)]['date'].dt.strftime('%d.%m'),\n",
    "                        Discharge_data[(Discharge_data['date'].dt.year == 2021)]['discharge_total'] / 1e9, label='2021', color='k')\n",
    "ax.plot(Discharge_data[(Discharge_data['date'].dt.year == 2015)]['date'].dt.strftime('%d.%m'),\n",
    "                        Discharge_data[(Discharge_data['date'].dt.year == 2022)]['discharge_total'] / 1e9, label='2022', color='m')\n",
    "ax.plot(Discharge_data[(Discharge_data['date'].dt.year == 2015)]['date'].dt.strftime('%d.%m'),\n",
    "                        Discharge_data[(Discharge_data['date'].dt.year == 2023)]['discharge_total'] / 1e9, label='2023', color='pink')\n",
    "\n",
    "plt.ylabel('Сток, км3')\n",
    "plt.title('Суммарный сток Оби и Енисея')\n",
    "\n",
    "locator = mdates.DayLocator(bymonthday=1)\n",
    "formatter = mdates.DateFormatter('%d.%m')\n",
    "\n",
    "ax.xaxis.set_major_locator(locator)\n",
    "ax.xaxis.set_major_formatter(formatter)\n",
    "\n",
    "plt.xticks(rotation=45)\n",
    "plt.tight_layout()\n",
    "\n",
    "# Добавляем легенду\n",
    "plt.legend()\n",
    "plt.savefig(f'discharge_pictures/Kara_sum_discharge', dpi=300, bbox_inches='tight')"
   ]
  },
  {
   "cell_type": "code",
   "execution_count": null,
   "id": "2bea0fd4",
   "metadata": {},
   "outputs": [],
   "source": [
    "a = Discharge_data.groupby(Discharge_data.date.dt.year)['discharge_total'].sum()\n",
    "a[:-1] / 1e9"
   ]
  },
  {
   "cell_type": "code",
   "execution_count": null,
   "id": "4551c14a",
   "metadata": {},
   "outputs": [],
   "source": [
    "coeff_Ob_Gulf = 1/0.82"
   ]
  },
  {
   "cell_type": "code",
   "execution_count": null,
   "id": "7070580c",
   "metadata": {},
   "outputs": [],
   "source": [
    "Discharge_data['discharge_Ob_Gulf'] = Discharge_data['discharge_Ob'] * coeff_Ob_Gulf\n",
    "Discharge_data['discharge_total_+'] = Discharge_data['discharge_Ob_Gulf'] + Discharge_data['discharge_Yenisei']"
   ]
  },
  {
   "cell_type": "code",
   "execution_count": null,
   "id": "fb1d0f95",
   "metadata": {},
   "outputs": [],
   "source": [
    "Discharge_data"
   ]
  },
  {
   "cell_type": "code",
   "execution_count": null,
   "id": "ea44e07d",
   "metadata": {},
   "outputs": [],
   "source": [
    "aa = Discharge_data[(Discharge_data.date.dt.month >= 5) &\n",
    "                    (Discharge_data.date.dt.month <= 8)].groupby(Discharge_data.date.dt.year)['discharge_total_+'].sum()\n",
    "aa[:-1] / 1e9"
   ]
  },
  {
   "cell_type": "code",
   "execution_count": null,
   "id": "25251d99",
   "metadata": {},
   "outputs": [],
   "source": [
    "s = [320, 140, 220, 220, 250, 235, 275, 220, 300]\n",
    "s1 = [320, np.nan, 220, np.nan, 250, np.nan, np.nan, 220, 300]\n",
    "s2 = [np.nan, 140, np.nan, 220, np.nan, 235, 275, np.nan, np.nan]"
   ]
  },
  {
   "cell_type": "code",
   "execution_count": null,
   "id": "434b1050",
   "metadata": {},
   "outputs": [],
   "source": [
    "fig = plt.figure(dpi=300)\n",
    "plt.plot(aa / 1e9, s1, marker='o', linestyle='None', color='blue')\n",
    "plt.plot(aa / 1e9, s2, marker='o', linestyle='None', color='red')\n",
    "mask = ~np.isnan(np.asarray(s2))\n",
    "x_valid = np.asarray(aa)[mask]\n",
    "y_valid = np.asarray(s2)[mask]\n",
    "\n",
    "coeffs = np.polyfit(x_valid, y_valid, deg=1)\n",
    "k, b = coeffs\n",
    "\n",
    "x_line = np.linspace(np.min(x_valid), np.max(x_valid), 100)\n",
    "y_line = k * x_line + b\n",
    "\n",
    "# Строим прямую линию по оставшимся точкам\n",
    "plt.plot(x_line / 1e9, y_line, color='red', label=f'Линия наим. квадратов: y = {k:.2f}x + {b:.2f}')\n",
    "plt.ylabel('Площадь, тыс. км2')\n",
    "plt.xlabel('Объем речного стока в половодье, км3')\n",
    "# plt.title('Зависимость площади плюма Оби-Енисея от суммарного стока за период половодья')\n",
    "plt.savefig(f'discharge_pictures/Kara_area_discharge', dpi=300, bbox_inches='tight')"
   ]
  },
  {
   "cell_type": "code",
   "execution_count": null,
   "id": "8b0b80de",
   "metadata": {},
   "outputs": [],
   "source": []
  },
  {
   "cell_type": "code",
   "execution_count": null,
   "id": "9573dbce",
   "metadata": {},
   "outputs": [],
   "source": [
    "Ob_year = Discharge_data.groupby(Discharge_data.date.dt.year)['discharge_Ob'].sum()\n",
    "Ob_year[:-1].mean() / 1e9"
   ]
  },
  {
   "cell_type": "code",
   "execution_count": null,
   "id": "b4bd13ee",
   "metadata": {},
   "outputs": [],
   "source": [
    "Yenisei_year = Discharge_data.groupby(Discharge_data.date.dt.year)['discharge_Yenisei'].sum()\n",
    "Yenisei_year.mean() / 1e9"
   ]
  },
  {
   "cell_type": "code",
   "execution_count": null,
   "id": "2970c141",
   "metadata": {},
   "outputs": [],
   "source": [
    "discharge_mean = [620, 429, 18, 44.3, 34.3, 443, 86]\n",
    "names = ['Yenisei', 'Ob', 'Nadym', 'Taz', 'Pur', 'others', 'Pyasina']"
   ]
  },
  {
   "cell_type": "code",
   "execution_count": null,
   "id": "d3e8ce1b",
   "metadata": {},
   "outputs": [],
   "source": [
    "plt.figure(figsize=(8, 8))\n",
    "plt.pie(discharge_mean, labels=names, autopct='%1.1f%%', startangle=270)\n",
    "plt.show()"
   ]
  },
  {
   "cell_type": "code",
   "execution_count": null,
   "id": "6e02eda3",
   "metadata": {},
   "outputs": [],
   "source": [
    "plt.figure(figsize=(8, 8))\n",
    "plt.pie(discharge_mean, labels=names, startangle=270)\n",
    "plt.show()"
   ]
  },
  {
   "cell_type": "code",
   "execution_count": null,
   "id": "32303e9b",
   "metadata": {},
   "outputs": [],
   "source": []
  },
  {
   "cell_type": "code",
   "execution_count": null,
   "id": "ed368c61",
   "metadata": {},
   "outputs": [],
   "source": []
  },
  {
   "cell_type": "code",
   "execution_count": null,
   "id": "c3a6f6f9",
   "metadata": {},
   "outputs": [],
   "source": []
  }
 ],
 "metadata": {
  "kernelspec": {
   "display_name": "Python 3",
   "language": "python",
   "name": "python3"
  },
  "language_info": {
   "codemirror_mode": {
    "name": "ipython",
    "version": 3
   },
   "file_extension": ".py",
   "mimetype": "text/x-python",
   "name": "python",
   "nbconvert_exporter": "python",
   "pygments_lexer": "ipython3",
   "version": "3.10.12"
  }
 },
 "nbformat": 4,
 "nbformat_minor": 5
}
