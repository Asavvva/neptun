{
 "cells": [
  {
   "cell_type": "code",
   "execution_count": null,
   "id": "d3a24e5b",
   "metadata": {},
   "outputs": [],
   "source": [
    "from netCDF4 import Dataset\n",
    "from matplotlib import pyplot as plt\n",
    "import numpy as np\n",
    "import datetime\n",
    "from scipy.interpolate import griddata\n",
    "from mpl_toolkits.basemap import Basemap\n",
    "import os"
   ]
  },
  {
   "cell_type": "code",
   "execution_count": null,
   "id": "8ba6a083",
   "metadata": {},
   "outputs": [],
   "source": [
    "start_time_era5 = datetime.datetime(1900, 1, 1, 0, 0, 0)\n",
    "lon_min_era5, lon_max_era5, lat_min_era5, lat_max_era5 = 90, 200, 67, 80"
   ]
  },
  {
   "cell_type": "code",
   "execution_count": null,
   "id": "4a5a4b35",
   "metadata": {},
   "outputs": [],
   "source": [
    "lat1, lat2 = (90-lat_max_era5)*4, (90-lat_min_era5)*4+1\n",
    "lon1, lon2 = lon_min_era5*4, lon_max_era5*4+1"
   ]
  },
  {
   "cell_type": "code",
   "execution_count": null,
   "id": "604e8e28",
   "metadata": {},
   "outputs": [],
   "source": [
    "file = '/mnt/hippocamp/DATA/ERA5/w10/era5_uv10m_2020-09.nc'\n",
    "data = Dataset(file, 'r')\n",
    "\n",
    "longitude = np.array(data.variables['longitude'][lon_min_era5*4:lon_max_era5*4+1])\n",
    "latitude = np.array(data.variables['latitude'][(90-lat_max_era5)*4:(90-lat_min_era5)*4+1])\n",
    "lon_grid, lat_grid = np.meshgrid(longitude, latitude)"
   ]
  },
  {
   "cell_type": "code",
   "execution_count": null,
   "id": "b5fec84d",
   "metadata": {},
   "outputs": [],
   "source": [
    "def drawing(u, v, t=None, lon = lon_grid, lat = lat_grid, save=False):\n",
    "    fig = plt.figure(figsize=(12, 12), dpi=300)\n",
    "    \n",
    "    m = Basemap(width=3500000,height=1500000,\n",
    "                resolution='l',projection='aea',\n",
    "                lat_1=60, lat_2=65, lon_0=140, lat_0=76)\n",
    "    m.drawcoastlines()\n",
    "    m.fillcontinents(color='grey', lake_color='white')\n",
    "    m.drawparallels(np.arange(-80., 90., 10.), labels=[False, True, True, False])\n",
    "    m.drawmeridians(np.arange(-180., 180., 20.), labels=[True, True, False, True])\n",
    "    m.drawmapboundary(fill_color='white')\n",
    "    \n",
    "    # Преобразование координат для карты\n",
    "    x, y = m(lon, lat)\n",
    "    \n",
    "    # Вычисление скорости ветра\n",
    "    speed = np.sqrt(u**2 + v**2)\n",
    "    \n",
    "    # Отображение скорости ветра\n",
    "    speed_plot = m.pcolormesh(x, y, speed, shading='gouraud', cmap='jet', vmin=0)\n",
    "    cbar=plt.colorbar(speed_plot, label='Wind speed (m/s)', orientation='vertical', shrink=0.30)\n",
    "    # cbar.set_ticks([0,2,4,6,8,10,12])\n",
    "    \n",
    "    # Отображение направления ветра\n",
    "    m.quiver(x[::4, ::4], y[::4, ::4], u[::4, ::4], v[::4, ::4], scale=30, scale_units='inches')\n",
    "    # plt.title(f'Wind speed {t.date()}')\n",
    "    \n",
    "    plt.show()\n",
    "    plt.close('all')"
   ]
  },
  {
   "cell_type": "code",
   "execution_count": null,
   "id": "312a00d9",
   "metadata": {},
   "outputs": [],
   "source": [
    "year = 2016\n",
    "month = 9"
   ]
  },
  {
   "cell_type": "code",
   "execution_count": null,
   "id": "570cede0",
   "metadata": {},
   "outputs": [],
   "source": [
    "file = f'/mnt/hippocamp/DATA/ERA5/w10/era5_uv10m_{year}-{month:02}.nc'\n",
    "data = Dataset(file, 'r')"
   ]
  },
  {
   "cell_type": "code",
   "execution_count": null,
   "id": "ec3d205a",
   "metadata": {},
   "outputs": [],
   "source": [
    "u10 = np.asarray(data.variables['u10'][:,(90-lat_max_era5)*4:(90-lat_min_era5)*4+1,lon_min_era5*4:lon_max_era5*4+1])\n",
    "u10.shape"
   ]
  },
  {
   "cell_type": "code",
   "execution_count": null,
   "id": "b8f48e7a",
   "metadata": {},
   "outputs": [],
   "source": [
    "v10 = np.asarray(data.variables['v10'][:,(90-lat_max_era5)*4:(90-lat_min_era5)*4+1,lon_min_era5*4:lon_max_era5*4+1])\n",
    "v10.shape"
   ]
  },
  {
   "cell_type": "code",
   "execution_count": null,
   "id": "ef9a23b4",
   "metadata": {},
   "outputs": [],
   "source": [
    "u10.shape, v10.shape"
   ]
  },
  {
   "cell_type": "code",
   "execution_count": null,
   "id": "c22a2c26",
   "metadata": {},
   "outputs": [],
   "source": [
    "list_u10 = np.split(u10, u10.shape[0]/24, axis=0)\n",
    "array_u10 = np.array([np.mean(a, axis=0) for a in list_u10])\n",
    "\n",
    "list_v10 = np.split(v10, v10.shape[0]/24, axis=0)\n",
    "array_v10 = np.array([np.mean(a, axis=0) for a in list_v10])"
   ]
  },
  {
   "cell_type": "code",
   "execution_count": null,
   "id": "82569f2d",
   "metadata": {},
   "outputs": [],
   "source": [
    "u10_mean = np.mean(u10, axis=0)\n",
    "v10_mean = np.mean(v10, axis=0)\n",
    "u10_mean.shape, v10_mean.shape"
   ]
  },
  {
   "cell_type": "code",
   "execution_count": null,
   "id": "e6711cf5",
   "metadata": {},
   "outputs": [],
   "source": [
    "drawing(u10_mean, v10_mean)"
   ]
  },
  {
   "cell_type": "code",
   "execution_count": null,
   "id": "b633b853",
   "metadata": {},
   "outputs": [],
   "source": [
    "# lon_min_era5, lon_max_era5, lat_min_era5, lat_max_era5 = 90, 200, 67, 80\n",
    "border_north = 75\n",
    "border_south = 72\n",
    "border_east = 140\n",
    "border_west = 128"
   ]
  },
  {
   "cell_type": "code",
   "execution_count": null,
   "id": "31209608",
   "metadata": {},
   "outputs": [],
   "source": [
    "u10_upd = u10[:,(lat_max_era5-border_north)*4:(lat_max_era5-border_south)*4+1,\n",
    "              (border_west-lon_min_era5)*4:(border_east-lon_min_era5)*4]\n",
    "v10_upd = v10[:,(lat_max_era5-border_north)*4:(lat_max_era5-border_south)*4+1,\n",
    "              (border_west-lon_min_era5)*4:(border_east-lon_min_era5)*4]\n",
    "u10_upd.shape, v10_upd.shape"
   ]
  },
  {
   "cell_type": "code",
   "execution_count": null,
   "id": "56237807",
   "metadata": {},
   "outputs": [],
   "source": [
    "u10_upd.mean(), v10_upd.mean()"
   ]
  },
  {
   "cell_type": "code",
   "execution_count": null,
   "id": "8ae56542",
   "metadata": {},
   "outputs": [],
   "source": []
  },
  {
   "cell_type": "code",
   "execution_count": null,
   "id": "d15c4d6e",
   "metadata": {},
   "outputs": [],
   "source": [
    "list_u10_upd = np.split(u10_upd, u10_upd.shape[0]/24, axis=0)\n",
    "array_u10_upd = np.array([np.mean(a, axis=0) for a in list_u10_upd])\n",
    "\n",
    "list_v10_upd = np.split(v10_upd, v10_upd.shape[0]/24, axis=0)\n",
    "array_v10_upd = np.array([np.mean(a, axis=0) for a in list_v10_upd])"
   ]
  },
  {
   "cell_type": "code",
   "execution_count": null,
   "id": "f18a0026",
   "metadata": {},
   "outputs": [],
   "source": []
  },
  {
   "cell_type": "code",
   "execution_count": null,
   "id": "28ef1134",
   "metadata": {},
   "outputs": [],
   "source": []
  },
  {
   "cell_type": "code",
   "execution_count": null,
   "id": "e34fda21",
   "metadata": {},
   "outputs": [],
   "source": []
  }
 ],
 "metadata": {
  "kernelspec": {
   "display_name": "Python 3",
   "language": "python",
   "name": "python3"
  },
  "language_info": {
   "codemirror_mode": {
    "name": "ipython",
    "version": 3
   },
   "file_extension": ".py",
   "mimetype": "text/x-python",
   "name": "python",
   "nbconvert_exporter": "python",
   "pygments_lexer": "ipython3",
   "version": "3.10.12"
  }
 },
 "nbformat": 4,
 "nbformat_minor": 5
}
