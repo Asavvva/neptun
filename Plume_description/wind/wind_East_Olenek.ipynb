{
 "cells": [
  {
   "cell_type": "code",
   "execution_count": null,
   "id": "dff21909",
   "metadata": {},
   "outputs": [],
   "source": [
    "from netCDF4 import Dataset\n",
    "from matplotlib import pyplot as plt\n",
    "import numpy as np\n",
    "import datetime\n",
    "from scipy.interpolate import griddata\n",
    "from mpl_toolkits.basemap import Basemap\n",
    "import os"
   ]
  },
  {
   "cell_type": "code",
   "execution_count": null,
   "id": "c360939d",
   "metadata": {},
   "outputs": [],
   "source": [
    "start_time_era5 = datetime.datetime(1900, 1, 1, 0, 0, 0)\n",
    "lon_min_era5, lon_max_era5, lat_min_era5, lat_max_era5 = 90, 200, 67, 80"
   ]
  },
  {
   "cell_type": "code",
   "execution_count": null,
   "id": "dff4d0b4",
   "metadata": {},
   "outputs": [],
   "source": [
    "file = '/mnt/hippocamp/DATA/ERA5/w10/era5_uv10m_2020-09.nc'\n",
    "data = Dataset(file, 'r')\n",
    "\n",
    "longitude = np.array(data.variables['longitude'][lon_min_era5*4:lon_max_era5*4+1])\n",
    "latitude = np.array(data.variables['latitude'][(90-lat_max_era5)*4:(90-lat_min_era5)*4+1])\n",
    "lon_grid, lat_grid = np.meshgrid(longitude, latitude)"
   ]
  },
  {
   "cell_type": "code",
   "execution_count": null,
   "id": "297cf71f",
   "metadata": {},
   "outputs": [],
   "source": [
    "def drawing(u, v, t=None, lon = lon_grid, lat = lat_grid, save=False):\n",
    "    fig = plt.figure(figsize=(12, 12), dpi=300)\n",
    "    \n",
    "    m = Basemap(width=600000, height=700000,\n",
    "                resolution='l', projection='aea',\n",
    "                lat_1=60, lat_2=65, lon_0=125, lat_0=74)\n",
    "    m.drawcoastlines()\n",
    "    m.fillcontinents(color='grey', lake_color='white')\n",
    "    m.drawparallels(np.arange(-80., 90., 2.), labels=[False, True, True, False])\n",
    "    m.drawmeridians(np.arange(-180., 180., 5.), labels=[True, True, False, True])\n",
    "    m.drawmapboundary(fill_color='white')\n",
    "    \n",
    "    # Преобразование координат для карты\n",
    "    x, y = m(lon, lat)\n",
    "    \n",
    "    # Вычисление скорости ветра\n",
    "    speed = np.sqrt(u**2 + v**2)\n",
    "    \n",
    "    # Отображение скорости ветра\n",
    "    speed_plot = m.pcolormesh(x, y, speed, shading='gouraud', cmap='jet', vmin=0)\n",
    "    cbar=plt.colorbar(speed_plot, label='Wind speed (m/s)')\n",
    "    # cbar.set_ticks([0,2,4,6,8,10,12])\n",
    "    \n",
    "    # Отображение направления ветра\n",
    "    m.quiver(x[::4, ::4], y[::4, ::4], u[::4, ::4], v[::4, ::4], scale=30, scale_units='inches')\n",
    "    # plt.title(f'Wind speed {t.date()}')\n",
    "\n",
    "    # Верхняя сторона (широта = 75, долготы от 75 до 85)\n",
    "    top_lon = np.linspace(75, 85, 100)\n",
    "    top_lat = np.full_like(top_lon, 75)\n",
    "\n",
    "    # Нижняя сторона (широта = 72)\n",
    "    bottom_lon = np.linspace(75, 85, 100)\n",
    "    bottom_lat = np.full_like(bottom_lon, 72)\n",
    "\n",
    "    # Левая сторона (долгота = 75)\n",
    "    left_lat = np.linspace(72, 75, 100)\n",
    "    left_lon = np.full_like(left_lat, 75)\n",
    "\n",
    "    # Правая сторона (долгота = 85)\n",
    "    right_lat = np.linspace(72, 75, 100)\n",
    "    right_lon = np.full_like(right_lat, 85)\n",
    "\n",
    "    # Отображение сторон\n",
    "    m.plot(*m(top_lon, top_lat), color='blue', linewidth=2, linestyle='-')   # верх\n",
    "    m.plot(*m(bottom_lon, bottom_lat), color='blue', linewidth=2, linestyle='-')  # низ\n",
    "    m.plot(*m(left_lon, left_lat), color='blue', linewidth=2, linestyle='-')  # левая\n",
    "    m.plot(*m(right_lon, right_lat), color='blue', linewidth=2, linestyle='-')  # правая\n",
    "    \n",
    "    plt.show()\n",
    "    plt.close('all')"
   ]
  },
  {
   "cell_type": "code",
   "execution_count": null,
   "id": "83b56331",
   "metadata": {},
   "outputs": [],
   "source": [
    "year = 2020\n",
    "month = 7\n",
    "file = f'/mnt/hippocamp/DATA/ERA5/w10/era5_uv10m_{year}-{month:02}.nc'\n",
    "data = Dataset(file, 'r')"
   ]
  },
  {
   "cell_type": "code",
   "execution_count": null,
   "id": "a99bf5af",
   "metadata": {},
   "outputs": [],
   "source": [
    "u10 = np.asarray(data.variables['u10'][:,(90-lat_max_era5)*4:(90-lat_min_era5)*4+1,lon_min_era5*4:lon_max_era5*4+1])"
   ]
  },
  {
   "cell_type": "code",
   "execution_count": null,
   "id": "4f17c021",
   "metadata": {},
   "outputs": [],
   "source": [
    "v10 = np.asarray(data.variables['v10'][:,(90-lat_max_era5)*4:(90-lat_min_era5)*4+1,lon_min_era5*4:lon_max_era5*4+1])"
   ]
  },
  {
   "cell_type": "code",
   "execution_count": null,
   "id": "686e4237",
   "metadata": {},
   "outputs": [],
   "source": [
    "list_u10 = np.split(u10, u10.shape[0]/24, axis=0)\n",
    "array_u10 = np.array([np.mean(a, axis=0) for a in list_u10])\n",
    "\n",
    "list_v10 = np.split(v10, v10.shape[0]/24, axis=0)\n",
    "array_v10 = np.array([np.mean(a, axis=0) for a in list_v10])"
   ]
  },
  {
   "cell_type": "code",
   "execution_count": null,
   "id": "b8a4d7bc",
   "metadata": {},
   "outputs": [],
   "source": [
    "array_u10.shape"
   ]
  },
  {
   "cell_type": "code",
   "execution_count": null,
   "id": "4a735e9a",
   "metadata": {},
   "outputs": [],
   "source": [
    "border_north = 76\n",
    "border_south = 73\n",
    "border_east = 122\n",
    "border_west = 117"
   ]
  },
  {
   "cell_type": "code",
   "execution_count": null,
   "id": "28f75dd0",
   "metadata": {},
   "outputs": [],
   "source": [
    "u10_upd = array_u10[:,(lat_max_era5-border_north)*4:(lat_max_era5-border_south)*4+1,\n",
    "                    (border_west-lon_min_era5)*4:(border_east-lon_max_era5)*4]\n",
    "v10_upd = array_v10[:,(lat_max_era5-border_north)*4:(lat_max_era5-border_south)*4+1,\n",
    "                    (border_west-lon_min_era5)*4:(border_east-lon_max_era5)*4]\n",
    "u10_upd.shape, v10_upd.shape"
   ]
  },
  {
   "cell_type": "code",
   "execution_count": null,
   "id": "8cf92279",
   "metadata": {},
   "outputs": [],
   "source": [
    "u10_upd_mean = np.mean(u10_upd, axis=(1, 2))\n",
    "v10_upd_mean = np.mean(v10_upd, axis=(1, 2))\n",
    "u10_upd_mean.shape, v10_upd_mean.shape"
   ]
  },
  {
   "cell_type": "code",
   "execution_count": null,
   "id": "6b947b0a",
   "metadata": {},
   "outputs": [],
   "source": [
    "V10 = np.asarray([np.sqrt(u**2 + v**2) for (u,v) in zip(u10_upd_mean, v10_upd_mean)])"
   ]
  },
  {
   "cell_type": "code",
   "execution_count": null,
   "id": "e0d0c5a2",
   "metadata": {},
   "outputs": [],
   "source": [
    "u10_upd_mean"
   ]
  },
  {
   "cell_type": "code",
   "execution_count": null,
   "id": "dfdbfdd7",
   "metadata": {},
   "outputs": [],
   "source": [
    "v10_upd_mean"
   ]
  },
  {
   "cell_type": "code",
   "execution_count": null,
   "id": "1c43d194",
   "metadata": {},
   "outputs": [],
   "source": [
    "u = u10_upd_mean[20:]\n",
    "v = v10_upd_mean[20:]\n",
    "\n",
    "x = np.arange(21, 21 + len(u))\n",
    "y = np.zeros_like(x)\n",
    "\n",
    "plt.figure(figsize=(12, 2), dpi=300)\n",
    "plt.quiver(x, y, u, v, angles='xy', scale_units='xy', scale=1, color='blue')\n",
    "plt.xlim(21-8, 21+len(u))\n",
    "plt.ylim(-8, 9)\n",
    "plt.xticks([21+i for i in range(len(u)) if i % 2 == 0])\n",
    "plt.gca().set_aspect('equal')\n",
    "plt.grid(True)\n",
    "plt.title('Скорость и направление ветра')\n",
    "plt.xlabel('Дата')\n",
    "plt.ylabel('')\n",
    "plt.show()"
   ]
  },
  {
   "cell_type": "code",
   "execution_count": null,
   "id": "1fd3a2ba",
   "metadata": {},
   "outputs": [],
   "source": [
    "u10_mean = np.mean(array_u10[56:59,:,:], axis=0)\n",
    "v10_mean = np.mean(array_v10[56:59,:,:], axis=0)\n",
    "u10_mean.shape, v10_mean.shape"
   ]
  },
  {
   "cell_type": "code",
   "execution_count": null,
   "id": "661bd4c4",
   "metadata": {},
   "outputs": [],
   "source": [
    "drawing(u10_mean, v10_mean)"
   ]
  },
  {
   "cell_type": "code",
   "execution_count": null,
   "id": "d825b8d7",
   "metadata": {},
   "outputs": [],
   "source": []
  },
  {
   "cell_type": "code",
   "execution_count": null,
   "id": "094e7c32",
   "metadata": {},
   "outputs": [],
   "source": [
    "year = 2020\n",
    "month = 7\n",
    "file = f'/mnt/hippocamp/DATA/ERA5/sst/era5_sst_{year}-{month:02}.nc'\n",
    "data = Dataset(file, 'r')"
   ]
  },
  {
   "cell_type": "code",
   "execution_count": null,
   "id": "7f080bf5",
   "metadata": {},
   "outputs": [],
   "source": [
    "sst = np.asarray(data.variables['sst'][:,(90-lat_max_era5)*4:(90-lat_min_era5)*4+1,lon_min_era5*4:lon_max_era5*4+1])"
   ]
  },
  {
   "cell_type": "code",
   "execution_count": null,
   "id": "b4a9411a",
   "metadata": {},
   "outputs": [],
   "source": [
    "list_sst = np.split(sst, sst.shape[0]/24, axis=0)\n",
    "array_sst = np.array([np.mean(a, axis=0) for a in list_sst])\n",
    "array_sst[array_sst < 0] = np.nan\n",
    "array_sst -= 273\n",
    "array_sst.shape"
   ]
  },
  {
   "cell_type": "code",
   "execution_count": null,
   "id": "445f47f1",
   "metadata": {},
   "outputs": [],
   "source": [
    "sst_upd = array_sst[:,(lat_max_era5-border_north)*4:(lat_max_era5-border_south)*4+1,\n",
    "                    (border_west-lon_min_era5)*4:(border_east-lon_max_era5)*4]\n",
    "sst_upd.shape"
   ]
  },
  {
   "cell_type": "code",
   "execution_count": null,
   "id": "b02f80ce",
   "metadata": {},
   "outputs": [],
   "source": [
    "sst_upd_mean = np.nanmean(sst_upd, axis=(1, 2))"
   ]
  },
  {
   "cell_type": "code",
   "execution_count": null,
   "id": "d97b61f9",
   "metadata": {},
   "outputs": [],
   "source": [
    "sst_upd_mean.shape"
   ]
  },
  {
   "cell_type": "code",
   "execution_count": null,
   "id": "edfab578",
   "metadata": {},
   "outputs": [],
   "source": []
  },
  {
   "cell_type": "code",
   "execution_count": null,
   "id": "5c651934",
   "metadata": {},
   "outputs": [],
   "source": [
    "plt.figure(figsize=(8, 6), dpi=300)\n",
    "plt.plot([i for i in range(sst_upd_mean.shape[0])], sst_upd_mean)\n",
    "# plt.xlim(-8, len(u))\n",
    "# plt.ylim(-7, 1)\n",
    "plt.xticks([i for i in range(sst_upd_mean.shape[0]) if i % 2 == 0])\n",
    "# plt.gca().set_aspect('equal')\n",
    "plt.grid(True)\n",
    "plt.title('SST')\n",
    "plt.xlabel('Дата')\n",
    "plt.ylabel('')\n",
    "plt.show()"
   ]
  },
  {
   "cell_type": "code",
   "execution_count": null,
   "id": "283df81b",
   "metadata": {},
   "outputs": [],
   "source": []
  },
  {
   "cell_type": "code",
   "execution_count": null,
   "id": "bedc16e6",
   "metadata": {},
   "outputs": [],
   "source": []
  },
  {
   "cell_type": "code",
   "execution_count": null,
   "id": "d6107966",
   "metadata": {},
   "outputs": [],
   "source": []
  }
 ],
 "metadata": {
  "kernelspec": {
   "display_name": "Python 3",
   "language": "python",
   "name": "python3"
  },
  "language_info": {
   "codemirror_mode": {
    "name": "ipython",
    "version": 3
   },
   "file_extension": ".py",
   "mimetype": "text/x-python",
   "name": "python",
   "nbconvert_exporter": "python",
   "pygments_lexer": "ipython3",
   "version": "3.10.12"
  }
 },
 "nbformat": 4,
 "nbformat_minor": 5
}
