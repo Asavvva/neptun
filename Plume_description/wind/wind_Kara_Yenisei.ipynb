{
 "cells": [
  {
   "cell_type": "code",
   "execution_count": null,
   "id": "d9af59ed",
   "metadata": {},
   "outputs": [],
   "source": [
    "from netCDF4 import Dataset\n",
    "from matplotlib import pyplot as plt\n",
    "import numpy as np\n",
    "import datetime\n",
    "from scipy.interpolate import griddata\n",
    "from mpl_toolkits.basemap import Basemap\n",
    "import os"
   ]
  },
  {
   "cell_type": "code",
   "execution_count": null,
   "id": "ecb1de64",
   "metadata": {},
   "outputs": [],
   "source": [
    "start_time_era5 = datetime.datetime(1900, 1, 1, 0, 0, 0)\n",
    "lon_min_era5, lon_max_era5, lat_min_era5, lat_max_era5 = 50, 110, 70, 83"
   ]
  },
  {
   "cell_type": "code",
   "execution_count": null,
   "id": "e8bad744",
   "metadata": {},
   "outputs": [],
   "source": [
    "file = '/mnt/hippocamp/DATA/ERA5/w10/era5_uv10m_2020-09.nc'\n",
    "data = Dataset(file, 'r')\n",
    "\n",
    "longitude = np.array(data.variables['longitude'][lon_min_era5*4:lon_max_era5*4+1])\n",
    "latitude = np.array(data.variables['latitude'][(90-lat_max_era5)*4:(90-lat_min_era5)*4+1])\n",
    "lon_grid, lat_grid = np.meshgrid(longitude, latitude)"
   ]
  },
  {
   "cell_type": "code",
   "execution_count": null,
   "id": "23716699",
   "metadata": {},
   "outputs": [],
   "source": [
    "def drawing(u, v, t=None, lon = lon_grid, lat = lat_grid, save=False):\n",
    "    fig = plt.figure(figsize=(12, 12), dpi=300)\n",
    "    \n",
    "    m = Basemap(width=600000, height=700000,\n",
    "                resolution='l', projection='aea',\n",
    "                lat_1=60, lat_2=65, lon_0=80, lat_0=74)\n",
    "    m.drawcoastlines()\n",
    "    m.fillcontinents(color='grey', lake_color='white')\n",
    "    m.drawparallels(np.arange(-80., 90., 2.), labels=[False, True, True, False])\n",
    "    m.drawmeridians(np.arange(-180., 180., 5.), labels=[True, True, False, True])\n",
    "    m.drawmapboundary(fill_color='white')\n",
    "    \n",
    "    # Преобразование координат для карты\n",
    "    x, y = m(lon, lat)\n",
    "    \n",
    "    # Вычисление скорости ветра\n",
    "    speed = np.sqrt(u**2 + v**2)\n",
    "    \n",
    "    # Отображение скорости ветра\n",
    "    speed_plot = m.pcolormesh(x, y, speed, shading='gouraud', cmap='jet', vmin=0, vmax=10)\n",
    "    cbar=plt.colorbar(speed_plot, label='Wind speed (m/s)')\n",
    "    # cbar.set_ticks([0,2,4,6,8,10,12])\n",
    "    \n",
    "    # Отображение направления ветра\n",
    "    m.quiver(x[::4, ::4], y[::4, ::4], u[::4, ::4], v[::4, ::4], scale=30, scale_units='inches')\n",
    "    # plt.title(f'Wind speed {t.date()}')\n",
    "\n",
    "    # Верхняя сторона (широта = 75, долготы от 75 до 85)\n",
    "    top_lon = np.linspace(75, 85, 100)\n",
    "    top_lat = np.full_like(top_lon, 75)\n",
    "\n",
    "    # Нижняя сторона (широта = 72)\n",
    "    bottom_lon = np.linspace(75, 85, 100)\n",
    "    bottom_lat = np.full_like(bottom_lon, 72)\n",
    "\n",
    "    # Левая сторона (долгота = 75)\n",
    "    left_lat = np.linspace(72, 75, 100)\n",
    "    left_lon = np.full_like(left_lat, 75)\n",
    "\n",
    "    # Правая сторона (долгота = 85)\n",
    "    right_lat = np.linspace(72, 75, 100)\n",
    "    right_lon = np.full_like(right_lat, 85)\n",
    "\n",
    "    # Отображение сторон\n",
    "    m.plot(*m(top_lon, top_lat), color='blue', linewidth=2, linestyle='-')   # верх\n",
    "    m.plot(*m(bottom_lon, bottom_lat), color='blue', linewidth=2, linestyle='-')  # низ\n",
    "    m.plot(*m(left_lon, left_lat), color='blue', linewidth=2, linestyle='-')  # левая\n",
    "    m.plot(*m(right_lon, right_lat), color='blue', linewidth=2, linestyle='-')  # правая\n",
    "    \n",
    "    plt.show()\n",
    "    plt.close('all')"
   ]
  },
  {
   "cell_type": "code",
   "execution_count": null,
   "id": "b11d41a5",
   "metadata": {},
   "outputs": [],
   "source": [
    "def drawing_sst(sst, t=None, lon = lon_grid, lat = lat_grid, save=False):\n",
    "    fig = plt.figure(figsize=(12, 12), dpi=300)\n",
    "    \n",
    "    m = Basemap(width=600000, height=700000,\n",
    "                resolution='l', projection='aea',\n",
    "                lat_1=60, lat_2=65, lon_0=80, lat_0=74)\n",
    "    m.drawcoastlines()\n",
    "    m.fillcontinents(color='grey', lake_color='white')\n",
    "    m.drawparallels(np.arange(-80., 90., 2.), labels=[False, True, True, False])\n",
    "    m.drawmeridians(np.arange(-180., 180., 5.), labels=[True, True, False, True])\n",
    "    m.drawmapboundary(fill_color='white')\n",
    "    \n",
    "    # Преобразование координат для карты\n",
    "    x, y = m(lon, lat)\n",
    "    \n",
    "    \n",
    "    # Отображение скорости ветра\n",
    "    sst_plot = m.pcolormesh(x, y, sst, shading='gouraud', cmap='jet', vmin=0)\n",
    "    cbar=plt.colorbar(sst_plot, label='Temperature')\n",
    "    # cbar.set_ticks([0,2,4,6,8,10,12])\n",
    "    \n",
    "    # plt.title(f'Wind speed {t.date()}')\n",
    "\n",
    "    # Верхняя сторона (широта = 75, долготы от 75 до 85)\n",
    "    top_lon = np.linspace(75, 85, 100)\n",
    "    top_lat = np.full_like(top_lon, 75)\n",
    "\n",
    "    # Нижняя сторона (широта = 72)\n",
    "    bottom_lon = np.linspace(75, 85, 100)\n",
    "    bottom_lat = np.full_like(bottom_lon, 72)\n",
    "\n",
    "    # Левая сторона (долгота = 75)\n",
    "    left_lat = np.linspace(72, 75, 100)\n",
    "    left_lon = np.full_like(left_lat, 75)\n",
    "\n",
    "    # Правая сторона (долгота = 85)\n",
    "    right_lat = np.linspace(72, 75, 100)\n",
    "    right_lon = np.full_like(right_lat, 85)\n",
    "\n",
    "    # Отображение сторон\n",
    "    m.plot(*m(top_lon, top_lat), color='blue', linewidth=2, linestyle='-')   # верх\n",
    "    m.plot(*m(bottom_lon, bottom_lat), color='blue', linewidth=2, linestyle='-')  # низ\n",
    "    m.plot(*m(left_lon, left_lat), color='blue', linewidth=2, linestyle='-')  # левая\n",
    "    m.plot(*m(right_lon, right_lat), color='blue', linewidth=2, linestyle='-')  # правая\n",
    "    \n",
    "    plt.show()\n",
    "    plt.close('all')"
   ]
  },
  {
   "cell_type": "code",
   "execution_count": null,
   "id": "7de7c9d6",
   "metadata": {},
   "outputs": [],
   "source": [
    "year = 2015\n",
    "month = 7\n",
    "file = f'/mnt/hippocamp/DATA/ERA5/w10/era5_uv10m_{year}-{month:02}.nc'\n",
    "data = Dataset(file, 'r')"
   ]
  },
  {
   "cell_type": "code",
   "execution_count": null,
   "id": "56b02d07",
   "metadata": {},
   "outputs": [],
   "source": [
    "u10 = np.asarray(data.variables['u10'][:,(90-lat_max_era5)*4:(90-lat_min_era5)*4+1,lon_min_era5*4:lon_max_era5*4+1])"
   ]
  },
  {
   "cell_type": "code",
   "execution_count": null,
   "id": "9224a624",
   "metadata": {},
   "outputs": [],
   "source": [
    "v10 = np.asarray(data.variables['v10'][:,(90-lat_max_era5)*4:(90-lat_min_era5)*4+1,lon_min_era5*4:lon_max_era5*4+1])"
   ]
  },
  {
   "cell_type": "code",
   "execution_count": null,
   "id": "d6eca0ac",
   "metadata": {},
   "outputs": [],
   "source": [
    "u10.shape, v10.shape"
   ]
  },
  {
   "cell_type": "code",
   "execution_count": null,
   "id": "a0243d1e",
   "metadata": {},
   "outputs": [],
   "source": [
    "year = 2015\n",
    "month = 8\n",
    "file = f'/mnt/hippocamp/DATA/ERA5/w10/era5_uv10m_{year}-{month:02}.nc'\n",
    "data = Dataset(file, 'r')"
   ]
  },
  {
   "cell_type": "code",
   "execution_count": null,
   "id": "14a58db7",
   "metadata": {},
   "outputs": [],
   "source": [
    "u10_ = np.asarray(data.variables['u10'][:,(90-lat_max_era5)*4:(90-lat_min_era5)*4+1,lon_min_era5*4:lon_max_era5*4+1])"
   ]
  },
  {
   "cell_type": "code",
   "execution_count": null,
   "id": "2ed8cb37",
   "metadata": {},
   "outputs": [],
   "source": [
    "v10_ = np.asarray(data.variables['v10'][:,(90-lat_max_era5)*4:(90-lat_min_era5)*4+1,lon_min_era5*4:lon_max_era5*4+1])"
   ]
  },
  {
   "cell_type": "code",
   "execution_count": null,
   "id": "062283c3",
   "metadata": {},
   "outputs": [],
   "source": [
    "u10_.shape, v10_.shape"
   ]
  },
  {
   "cell_type": "code",
   "execution_count": null,
   "id": "55891114",
   "metadata": {},
   "outputs": [],
   "source": [
    "u10 = np.concatenate((u10, u10_))\n",
    "v10 = np.concatenate((v10, v10_))\n",
    "u10.shape, v10.shape"
   ]
  },
  {
   "cell_type": "code",
   "execution_count": null,
   "id": "95786d8c",
   "metadata": {},
   "outputs": [],
   "source": [
    "list_u10 = np.split(u10, u10.shape[0]/24, axis=0)\n",
    "array_u10 = np.array([np.mean(a, axis=0) for a in list_u10])\n",
    "\n",
    "list_v10 = np.split(v10, v10.shape[0]/24, axis=0)\n",
    "array_v10 = np.array([np.mean(a, axis=0) for a in list_v10])"
   ]
  },
  {
   "cell_type": "code",
   "execution_count": null,
   "id": "5cbd96a0",
   "metadata": {},
   "outputs": [],
   "source": [
    "array_u10.shape"
   ]
  },
  {
   "cell_type": "code",
   "execution_count": null,
   "id": "c869f998",
   "metadata": {},
   "outputs": [],
   "source": [
    "border_north = 75\n",
    "border_south = 72\n",
    "border_east = 85\n",
    "border_west = 75"
   ]
  },
  {
   "cell_type": "code",
   "execution_count": null,
   "id": "8eebb398",
   "metadata": {},
   "outputs": [],
   "source": [
    "u10_upd = array_u10[:,(lat_max_era5-border_north)*4:(lat_max_era5-border_south)*4+1,\n",
    "                    (border_west-lon_min_era5)*4:(border_east-lon_max_era5)*4]\n",
    "v10_upd = array_v10[:,(lat_max_era5-border_north)*4:(lat_max_era5-border_south)*4+1,\n",
    "                    (border_west-lon_min_era5)*4:(border_east-lon_max_era5)*4]\n",
    "u10_upd.shape, v10_upd.shape"
   ]
  },
  {
   "cell_type": "code",
   "execution_count": null,
   "id": "bfcea2cf",
   "metadata": {},
   "outputs": [],
   "source": [
    "u10_upd_mean = np.mean(u10_upd, axis=(1, 2))\n",
    "v10_upd_mean = np.mean(v10_upd, axis=(1, 2))\n",
    "u10_upd_mean.shape, v10_upd_mean.shape"
   ]
  },
  {
   "cell_type": "code",
   "execution_count": null,
   "id": "dc3a6f2f",
   "metadata": {},
   "outputs": [],
   "source": [
    "V10 = np.asarray([np.sqrt(u**2 + v**2) for (u,v) in zip(u10_upd_mean, v10_upd_mean)])"
   ]
  },
  {
   "cell_type": "code",
   "execution_count": null,
   "id": "42c9c501",
   "metadata": {},
   "outputs": [],
   "source": [
    "u10_upd_mean[24:45]"
   ]
  },
  {
   "cell_type": "code",
   "execution_count": null,
   "id": "394750e4",
   "metadata": {},
   "outputs": [],
   "source": [
    "v10_upd_mean[24:45]"
   ]
  },
  {
   "cell_type": "code",
   "execution_count": null,
   "id": "efdab9f6",
   "metadata": {},
   "outputs": [],
   "source": [
    "V10[24:45]"
   ]
  },
  {
   "cell_type": "code",
   "execution_count": null,
   "id": "4c0653c1",
   "metadata": {},
   "outputs": [],
   "source": [
    "u = u10_upd_mean[24:45]\n",
    "v = v10_upd_mean[24:45]\n",
    "\n",
    "x = np.arange(len(u))\n",
    "y = np.zeros_like(x)\n",
    "\n",
    "plt.figure(figsize=(8, 2), dpi=300)\n",
    "plt.quiver(x, y, u, v, angles='xy', scale_units='xy', scale=1, color='blue')\n",
    "plt.xlim(-8, len(u))\n",
    "plt.ylim(-7, 1)\n",
    "plt.xticks([i for i in range(21)])\n",
    "plt.gca().set_aspect('equal')\n",
    "plt.grid(True)\n",
    "plt.title('Скорость и направление ветра')\n",
    "plt.xlabel('Дата')\n",
    "plt.ylabel('')\n",
    "plt.show()"
   ]
  },
  {
   "cell_type": "code",
   "execution_count": null,
   "id": "131f562b",
   "metadata": {},
   "outputs": [],
   "source": [
    "u10_mean = np.mean(array_u10[31:38,:,:], axis=0)\n",
    "v10_mean = np.mean(array_v10[31:38,:,:], axis=0)\n",
    "u10_mean.shape, v10_mean.shape"
   ]
  },
  {
   "cell_type": "code",
   "execution_count": null,
   "id": "cbe16b42",
   "metadata": {},
   "outputs": [],
   "source": [
    "drawing(u10_mean, v10_mean)"
   ]
  },
  {
   "cell_type": "code",
   "execution_count": null,
   "id": "2abefc53",
   "metadata": {},
   "outputs": [],
   "source": []
  },
  {
   "cell_type": "code",
   "execution_count": null,
   "id": "08efb362",
   "metadata": {},
   "outputs": [],
   "source": [
    "year = 2015\n",
    "month = 7\n",
    "file = f'/mnt/hippocamp/DATA/ERA5/sst/era5_sst_{year}-{month:02}.nc'\n",
    "data = Dataset(file, 'r')"
   ]
  },
  {
   "cell_type": "code",
   "execution_count": null,
   "id": "eff38b84",
   "metadata": {},
   "outputs": [],
   "source": [
    "sst = np.asarray(data.variables['sst'][:,(90-lat_max_era5)*4:(90-lat_min_era5)*4+1,lon_min_era5*4:lon_max_era5*4+1])"
   ]
  },
  {
   "cell_type": "code",
   "execution_count": null,
   "id": "c7547253",
   "metadata": {},
   "outputs": [],
   "source": [
    "year = 2015\n",
    "month = 8\n",
    "file = f'/mnt/hippocamp/DATA/ERA5/sst/era5_sst_{year}-{month:02}.nc'\n",
    "data = Dataset(file, 'r')"
   ]
  },
  {
   "cell_type": "code",
   "execution_count": null,
   "id": "e3e2948e",
   "metadata": {},
   "outputs": [],
   "source": [
    "sst_ = np.asarray(data.variables['sst'][:,(90-lat_max_era5)*4:(90-lat_min_era5)*4+1,lon_min_era5*4:lon_max_era5*4+1])"
   ]
  },
  {
   "cell_type": "code",
   "execution_count": null,
   "id": "c099e596",
   "metadata": {},
   "outputs": [],
   "source": [
    "sst = np.concatenate((sst, sst_))"
   ]
  },
  {
   "cell_type": "code",
   "execution_count": null,
   "id": "ec75d5db",
   "metadata": {},
   "outputs": [],
   "source": [
    "list_sst = np.split(sst, sst.shape[0]/24, axis=0)\n",
    "array_sst = np.array([np.mean(a, axis=0) for a in list_sst])\n",
    "array_sst[array_sst < 0] = np.nan\n",
    "array_sst -= 273\n",
    "array_sst.shape\n"
   ]
  },
  {
   "cell_type": "code",
   "execution_count": null,
   "id": "6321e6f9",
   "metadata": {},
   "outputs": [],
   "source": [
    "sst_upd = array_sst[:,(lat_max_era5-border_north)*4:(lat_max_era5-border_south)*4+1,\n",
    "                    (border_west-lon_min_era5)*4:(border_east-lon_max_era5)*4]\n",
    "sst_upd.shape"
   ]
  },
  {
   "cell_type": "code",
   "execution_count": null,
   "id": "dceb6bea",
   "metadata": {},
   "outputs": [],
   "source": [
    "sst_upd_mean = np.nanmean(sst_upd, axis=(1, 2))"
   ]
  },
  {
   "cell_type": "code",
   "execution_count": null,
   "id": "64e81517",
   "metadata": {},
   "outputs": [],
   "source": [
    "sst_upd_mean"
   ]
  },
  {
   "cell_type": "code",
   "execution_count": null,
   "id": "627a8edb",
   "metadata": {},
   "outputs": [],
   "source": [
    "plt.figure(figsize=(8, 4), dpi=300)\n",
    "plt.plot([i for i in range(38)], sst_upd_mean[24:])\n",
    "# plt.xlim(-8, len(u))\n",
    "# plt.ylim(-7, 1)\n",
    "plt.xticks([i for i in range(38)])\n",
    "# plt.gca().set_aspect('equal')\n",
    "plt.grid(True)\n",
    "plt.title('SST')\n",
    "plt.xlabel('Дата')\n",
    "plt.ylabel('')\n",
    "plt.show()"
   ]
  },
  {
   "cell_type": "code",
   "execution_count": null,
   "id": "55c39c28",
   "metadata": {},
   "outputs": [],
   "source": []
  },
  {
   "cell_type": "code",
   "execution_count": null,
   "id": "7c5d025f",
   "metadata": {},
   "outputs": [],
   "source": [
    "sst_mean = np.mean(array_sst[38:45,:,:], axis=0)\n",
    "sst_mean.shape"
   ]
  },
  {
   "cell_type": "code",
   "execution_count": null,
   "id": "c67da64a",
   "metadata": {},
   "outputs": [],
   "source": [
    "drawing_sst(sst_mean)"
   ]
  },
  {
   "cell_type": "code",
   "execution_count": null,
   "id": "b2017c6e",
   "metadata": {},
   "outputs": [],
   "source": [
    "year = 2015\n",
    "month = 7\n",
    "file = f'/mnt/hippocamp/DATA/ERA5/t2/era5_t2_{year}-{month:02}.nc'\n",
    "data = Dataset(file, 'r')"
   ]
  },
  {
   "cell_type": "code",
   "execution_count": null,
   "id": "f22d5005",
   "metadata": {},
   "outputs": [],
   "source": [
    "t2 = np.asarray(data.variables['t2m'][:,(90-lat_max_era5)*4:(90-lat_min_era5)*4+1,lon_min_era5*4:lon_max_era5*4+1])"
   ]
  },
  {
   "cell_type": "code",
   "execution_count": null,
   "id": "c73d9099",
   "metadata": {},
   "outputs": [],
   "source": [
    "year = 2015\n",
    "month = 8\n",
    "file = f'/mnt/hippocamp/DATA/ERA5/t2/era5_t2_{year}-{month:02}.nc'\n",
    "data = Dataset(file, 'r')"
   ]
  },
  {
   "cell_type": "code",
   "execution_count": null,
   "id": "2b4acb56",
   "metadata": {},
   "outputs": [],
   "source": [
    "t2_ = np.asarray(data.variables['t2m'][:,(90-lat_max_era5)*4:(90-lat_min_era5)*4+1,lon_min_era5*4:lon_max_era5*4+1])"
   ]
  },
  {
   "cell_type": "code",
   "execution_count": null,
   "id": "5f872e97",
   "metadata": {},
   "outputs": [],
   "source": [
    "t2 = np.concatenate((t2, t2_))"
   ]
  },
  {
   "cell_type": "code",
   "execution_count": null,
   "id": "d7351577",
   "metadata": {},
   "outputs": [],
   "source": [
    "list_t2 = np.split(t2, t2.shape[0]/24, axis=0)\n",
    "array_t2 = np.array([np.mean(a, axis=0) for a in list_t2])\n",
    "array_t2 -= 273\n",
    "array_t2.shape"
   ]
  },
  {
   "cell_type": "code",
   "execution_count": null,
   "id": "ede63a2e",
   "metadata": {},
   "outputs": [],
   "source": [
    "t2_upd = array_t2[:,(lat_max_era5-border_north)*4:(lat_max_era5-border_south)*4+1,\n",
    "                  (border_west-lon_min_era5)*4:(border_east-lon_max_era5)*4]\n",
    "t2_upd.shape"
   ]
  },
  {
   "cell_type": "code",
   "execution_count": null,
   "id": "013271e2",
   "metadata": {},
   "outputs": [],
   "source": [
    "sst_upd.shape"
   ]
  },
  {
   "cell_type": "code",
   "execution_count": null,
   "id": "f7a1569f",
   "metadata": {},
   "outputs": [],
   "source": [
    "t2_upd_ = np.where(np.isnan(sst_upd), np.nan, t2_upd)"
   ]
  },
  {
   "cell_type": "code",
   "execution_count": null,
   "id": "d9f45434",
   "metadata": {},
   "outputs": [],
   "source": []
  },
  {
   "cell_type": "code",
   "execution_count": null,
   "id": "5e3d1fe1",
   "metadata": {},
   "outputs": [],
   "source": []
  },
  {
   "cell_type": "code",
   "execution_count": null,
   "id": "73f2e9f0",
   "metadata": {},
   "outputs": [],
   "source": [
    "t2_upd_mean = np.nanmean(t2_upd_, axis=(1, 2))"
   ]
  },
  {
   "cell_type": "code",
   "execution_count": null,
   "id": "d102acbf",
   "metadata": {},
   "outputs": [],
   "source": [
    "t2_upd_mean"
   ]
  },
  {
   "cell_type": "code",
   "execution_count": null,
   "id": "11bc7e54",
   "metadata": {},
   "outputs": [],
   "source": [
    "plt.figure(figsize=(8, 6))\n",
    "plt.plot([i for i in range(21)], t2_upd_mean[24:45])\n",
    "# plt.xlim(-8, len(u))\n",
    "# plt.ylim(-7, 1)\n",
    "plt.xticks([i for i in range(21)])\n",
    "# plt.gca().set_aspect('equal')\n",
    "plt.grid(True)\n",
    "plt.title('T2')\n",
    "plt.xlabel('Дата')\n",
    "plt.ylabel('')\n",
    "plt.show()"
   ]
  },
  {
   "cell_type": "code",
   "execution_count": null,
   "id": "dc18a848",
   "metadata": {},
   "outputs": [],
   "source": []
  },
  {
   "cell_type": "code",
   "execution_count": null,
   "id": "db538b11",
   "metadata": {},
   "outputs": [],
   "source": [
    "t2_mean = np.mean(array_t2[38:45,:,:], axis=0)\n",
    "t2_mean.shape"
   ]
  },
  {
   "cell_type": "code",
   "execution_count": null,
   "id": "056f0708",
   "metadata": {},
   "outputs": [],
   "source": [
    "drawing_sst(t2_mean)"
   ]
  },
  {
   "cell_type": "code",
   "execution_count": null,
   "id": "3670d0c2",
   "metadata": {},
   "outputs": [],
   "source": []
  },
  {
   "cell_type": "code",
   "execution_count": null,
   "id": "7af752b1",
   "metadata": {},
   "outputs": [],
   "source": []
  }
 ],
 "metadata": {
  "kernelspec": {
   "display_name": "Python 3",
   "language": "python",
   "name": "python3"
  },
  "language_info": {
   "codemirror_mode": {
    "name": "ipython",
    "version": 3
   },
   "file_extension": ".py",
   "mimetype": "text/x-python",
   "name": "python",
   "nbconvert_exporter": "python",
   "pygments_lexer": "ipython3",
   "version": "3.10.12"
  }
 },
 "nbformat": 4,
 "nbformat_minor": 5
}
