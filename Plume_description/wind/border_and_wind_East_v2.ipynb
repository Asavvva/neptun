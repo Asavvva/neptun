{
 "cells": [
  {
   "cell_type": "code",
   "execution_count": null,
   "id": "60f13708",
   "metadata": {},
   "outputs": [],
   "source": [
    "from netCDF4 import Dataset\n",
    "from matplotlib import pyplot as plt\n",
    "import pandas as pd\n",
    "import numpy as np\n",
    "import datetime\n",
    "from scipy.interpolate import griddata\n",
    "from mpl_toolkits.basemap import Basemap\n",
    "import os\n",
    "from sklearn.linear_model import LinearRegression"
   ]
  },
  {
   "cell_type": "code",
   "execution_count": null,
   "id": "264ab673",
   "metadata": {},
   "outputs": [],
   "source": [
    "start_time_era5 = datetime.datetime(1900, 1, 1, 0, 0, 0)\n",
    "\n",
    "# Границы региона, загружаем только эти данные из хранилища\n",
    "lon_min_era5, lon_max_era5, lat_min_era5, lat_max_era5 = 90, 200, 67, 80"
   ]
  },
  {
   "cell_type": "code",
   "execution_count": null,
   "id": "8f338072",
   "metadata": {},
   "outputs": [],
   "source": [
    "# Создаем координатную сетку на основе одного из файлов. Сетка не меняется между файлами\n",
    "lat1, lat2 = (90-lat_max_era5)*4, (90-lat_min_era5)*4+1\n",
    "lon1, lon2 = lon_min_era5*4, lon_max_era5*4+1\n",
    "\n",
    "file = '/mnt/hippocamp/DATA/ERA5/w10/era5_uv10m_2020-09.nc'\n",
    "data = Dataset(file, 'r')\n",
    "\n",
    "longitude = np.array(data.variables['longitude'][lon1:lon2])\n",
    "latitude = np.array(data.variables['latitude'][lat1:lat2])\n",
    "lon_grid, lat_grid = np.meshgrid(longitude, latitude)"
   ]
  },
  {
   "cell_type": "code",
   "execution_count": null,
   "id": "2e56d644",
   "metadata": {},
   "outputs": [],
   "source": [
    "def get_wind(year, month, borders):\n",
    "    file = f'/mnt/hippocamp/DATA/ERA5/w10/era5_uv10m_{year}-{month:02}.nc'\n",
    "    data = Dataset(file, 'r')\n",
    "\n",
    "    u10 = np.asarray(data.variables['u10'][:,lat1:lat2,lon1:lon2])\n",
    "    v10 = np.asarray(data.variables['v10'][:,lat1:lat2,lon1:lon2])\n",
    "\n",
    "    u10_upd = u10[:,(lat_max_era5-borders[0])*4:(lat_max_era5-borders[1])*4+1,\n",
    "                  (borders[3]-lon_min_era5)*4:(borders[2]-lon_max_era5)*4]\n",
    "    v10_upd = v10[:,(lat_max_era5-borders[0])*4:(lat_max_era5-borders[1])*4+1,\n",
    "                  (borders[3]-lon_min_era5)*4:(borders[2]-lon_max_era5)*4]\n",
    "    \n",
    "    list_u10 = np.split(u10, u10.shape[0]/24, axis=0)\n",
    "    array_u10 = np.array([np.mean(a, axis=0) for a in list_u10])\n",
    "\n",
    "    list_v10 = np.split(v10, v10.shape[0]/24, axis=0)\n",
    "    array_v10 = np.array([np.mean(a, axis=0) for a in list_v10])\n",
    "    \n",
    "    list_u10_upd = np.split(u10_upd, u10_upd.shape[0]/24, axis=0)\n",
    "    array_u10_upd = np.array([np.mean(a, axis=0) for a in list_u10_upd])\n",
    "\n",
    "    list_v10_upd = np.split(v10_upd, v10_upd.shape[0]/24, axis=0)\n",
    "    array_v10_upd = np.array([np.mean(a, axis=0) for a in list_v10_upd])\n",
    "\n",
    "    start_date = datetime.datetime(year, month, 1)\n",
    "    finish_date = (start_date + datetime.timedelta(days=len(list_v10_upd)))\n",
    "    dates = [(start_date + datetime.timedelta(days=i)).date() for i in range((finish_date - start_date).days)]\n",
    "    data.close()\n",
    "\n",
    "    return array_u10, array_v10, array_u10_upd, array_v10_upd, dates"
   ]
  },
  {
   "cell_type": "code",
   "execution_count": null,
   "id": "6e301309",
   "metadata": {},
   "outputs": [],
   "source": [
    "def draw_border_wind(dates, NB_130E, NB_delta_130E, dates_wind, wind_data, Ekman_data, title):\n",
    "    x1 = dates\n",
    "    y1 = NB_130E\n",
    "    y3 = NB_delta_130E\n",
    "\n",
    "    x3 = dates_wind\n",
    "    y5 = wind_data\n",
    "    y6 = Ekman_data\n",
    "\n",
    "    fig, ax1 = plt.subplots(dpi=300)\n",
    "    ax2 = ax1.twinx()\n",
    "\n",
    "    ax3 = ax1.twinx()\n",
    "    ax3.spines[\"right\"].set_position((\"outward\", 60))\n",
    "    ax3.spines[\"right\"].set_visible(True)\n",
    "\n",
    "    ax4 = ax1.twinx()\n",
    "    ax4.spines[\"right\"].set_position((\"outward\", 120))\n",
    "    ax4.spines[\"right\"].set_visible(True)\n",
    "\n",
    "    line1, = ax1.plot(x1, y1, label='130E', linestyle='-', color='red')\n",
    "\n",
    "    line3, = ax2.plot(x1, y3, label='delta130E', linestyle='--', color='red')\n",
    "\n",
    "    line5, = ax3.plot(x3, y5, label='V_d', linestyle='-', color='black')\n",
    "    line6, = ax4.plot(x1, y6, label='Ekman', linestyle='--', color='black')\n",
    "\n",
    "    ax3.axhline(y=0, color='black', linestyle='--', linewidth=1)\n",
    "\n",
    "    all3 = np.array(y3)\n",
    "    all_wind = np.array(y5)\n",
    "    all6 = np.array(y6)\n",
    "\n",
    "    a1, a2, a3, b1, b2, b3 = (np.nanmax(all3), all_wind.max(), np.nanmax(all6),\n",
    "                              np.nanmin(all3), all_wind.min(), np.nanmin(all6))\n",
    "\n",
    "    if abs(a1/b1) > abs(a2/b2):\n",
    "        new_a2 = a1 * b2 / b1\n",
    "        new_b2 = b2\n",
    "\n",
    "        new_a3 = a1 * b3 / b1\n",
    "        new_b3 = b3\n",
    "\n",
    "    elif abs(a1/b1) < abs(a2/b2):\n",
    "        new_a2 = a2\n",
    "        new_b2 = b1 * a2 / a1\n",
    "\n",
    "        new_a3 = a3\n",
    "        new_b3 = b1 * a3 / a1\n",
    "        \n",
    "    ax2.set_ylim(b1 + 0.05 * b1, a1 + 0.05 * a1)\n",
    "    ax3.set_ylim(new_b2 + 0.05 * new_b2, new_a2 + 0.05 * new_a2)\n",
    "    ax4.set_ylim(new_b3 + 0.05 * new_b3, new_a3 + 0.05 * new_a3)\n",
    "\n",
    "    # lines = [line1, line2, line3, line4, line5, line6]\n",
    "    # labels = [line.get_label() for line in lines]\n",
    "    # ax1.legend(lines, labels, loc='upper left')\n",
    "\n",
    "    ax1.set_ylabel('Северная граница')\n",
    "    ax2.set_ylabel('Изменение северной границы')\n",
    "    ax3.set_ylabel('Скорость полного потока чисто дрейфового течения')\n",
    "    ax4.set_ylabel('Экмановский перенос')\n",
    "\n",
    "    step = len(x1) // 15 + 1\n",
    "    selected_indices = range(0, len(x1), step)\n",
    "\n",
    "    selected_x = [x1[i] for i in selected_indices]\n",
    "    ax1.set_xticks(selected_x)\n",
    "    ax1.set_xticklabels([date.strftime('%Y-%m-%d') for date in selected_x], rotation=45)\n",
    "\n",
    "    plt.title(title)\n",
    "    plt.grid(True)\n",
    "    plt.savefig(f'border_pictures_East_v2/N{title}', dpi=300, bbox_inches='tight')"
   ]
  },
  {
   "cell_type": "code",
   "execution_count": null,
   "id": "e96a6893",
   "metadata": {},
   "outputs": [],
   "source": [
    "def make_wind(borders, months, year, start_date, finish_date, lat1=lat1, lat2=lat2, lon1=lon1, lon2=lon2):\n",
    "    array_u10, array_v10 = np.empty((0, lat2-lat1, lon2-lon1)), np.empty((0, lat2-lat1, lon2-lon1))\n",
    "\n",
    "    array_u10_upd = np.empty((0, (borders[0]-borders[1])*4+1, (borders[2]-borders[3])*4+1))\n",
    "    array_v10_upd = np.empty((0, (borders[0]-borders[1])*4+1, (borders[2]-borders[3])*4+1))\n",
    "    dates_era = []\n",
    "\n",
    "    for month in months:\n",
    "        array_u10_, array_v10_, array_u10_upd_, array_v10_upd_, dates_era_ = get_wind(year=year, month=month, borders=borders)\n",
    "        array_u10 = np.concatenate((array_u10, array_u10_))\n",
    "        array_v10 = np.concatenate((array_v10, array_v10_))\n",
    "        array_u10_upd = np.concatenate((array_u10_upd, array_u10_upd_))\n",
    "        array_v10_upd = np.concatenate((array_v10_upd, array_v10_upd_))\n",
    "        dates_era += dates_era_\n",
    "\n",
    "    print(array_u10.shape, array_v10.shape, array_u10_upd.shape, array_v10_upd.shape, len(dates_era))\n",
    "\n",
    "    start_date -= datetime.timedelta(days=1)\n",
    "    finish_date += datetime.timedelta(days=1)\n",
    "\n",
    "    date_mask = [(start_date <= d <= finish_date) for d in dates_era]\n",
    "    dates_wind = [d for d, keep in zip(dates_era, date_mask) if keep]\n",
    "    array_u10_filtered = array_u10[date_mask,:,:]\n",
    "    array_v10_filtered = array_v10[date_mask,:,:]\n",
    "    array_u10_upd_filtered = array_u10_upd[date_mask,:,:]\n",
    "    array_v10_upd_filtered = array_v10_upd[date_mask,:,:]\n",
    "\n",
    "    print(array_u10_filtered.shape, array_v10_filtered.shape,\n",
    "        array_u10_upd_filtered.shape, array_v10_upd_filtered.shape,\n",
    "        len(dates_wind))\n",
    "    \n",
    "    return dates_wind, array_u10_filtered, array_v10_filtered, array_u10_upd_filtered, array_v10_upd_filtered"
   ]
  },
  {
   "cell_type": "code",
   "execution_count": null,
   "id": "f1ec2c9f",
   "metadata": {},
   "outputs": [],
   "source": [
    "def get_regression(U_neg, V, border):\n",
    "    X1 = np.array(U_neg)\n",
    "    X2 = np.array(V)\n",
    "    y = np.array(border)\n",
    "\n",
    "    mask = ~np.isnan(y)\n",
    "    X = np.column_stack((X1, X2))\n",
    "    X_clean = X[mask]\n",
    "    y_clean = y[mask]\n",
    "\n",
    "    model = LinearRegression()\n",
    "    model.fit(X_clean, y_clean)\n",
    "\n",
    "    y_pred = model.predict(X_clean)\n",
    "    \n",
    "    return y_pred, model.coef_, model.intercept_"
   ]
  },
  {
   "cell_type": "code",
   "execution_count": null,
   "id": "880ba2d4",
   "metadata": {},
   "outputs": [],
   "source": [
    "def mean_wind(array_u10_upd_filtered, array_v10_upd_filtered):\n",
    "    u10_mean_neg = [-np.mean(array_u10_upd_filtered[i]) for i in range(array_u10_upd_filtered.shape[0])]\n",
    "    v10_mean = [np.mean(array_v10_upd_filtered[i]) for i in range(array_v10_upd_filtered.shape[0])]\n",
    "    wind_mean = [(a**2 + b**2)**0.5 for a, b in zip(u10_mean_neg, v10_mean)]\n",
    "    U_neg = [a * b for a, b in zip(wind_mean, u10_mean_neg)]\n",
    "    V = [a * b for a, b in zip(wind_mean, v10_mean)]\n",
    "\n",
    "    return u10_mean_neg, v10_mean, wind_mean, U_neg, V"
   ]
  },
  {
   "cell_type": "code",
   "execution_count": null,
   "id": "e2d637af",
   "metadata": {},
   "outputs": [],
   "source": [
    "def make_ekman(NB_delta_130E, U_neg, V):\n",
    "    rho_air = 1.225\n",
    "    rho_water = 1025\n",
    "    f = 1.41 * 0.0001\n",
    "    C = 1.3 * 0.001\n",
    "    H = 10\n",
    "\n",
    "    NB_delta_130E_km = [b * 111.3 if not np.isnan(b) else np.nan for b in NB_delta_130E]\n",
    "    U_Ekman = [u * ((rho_air * C) / (rho_water * f) / H) for u in U_neg]\n",
    "    U_Ekman_sm = [u * 100 for u in U_Ekman]\n",
    "    V_Ekman = [v * ((rho_air * C) / (rho_water * f) / H) for v in V]\n",
    "    V_Ekman_sm = [v * 100 for v in V_Ekman]\n",
    "\n",
    "    U_Ekman_sum = [np.sum(U_Ekman[i:i+3]) for i in range(0, len(U_Ekman), 3) if len(U_Ekman[i:i+3]) == 3]\n",
    "    V_Ekman_sum = [np.sum(V_Ekman[i:i+3]) for i in range(0, len(V_Ekman), 3) if len(V_Ekman[i:i+3]) == 3]\n",
    "    Ekman_data_u = [60 * 60 * 24 / 1000 * u for u in U_Ekman_sum]\n",
    "    Ekman_data_v = [60 * 60 * 24 / 1000 * v for v in V_Ekman_sum]\n",
    "\n",
    "    return NB_delta_130E_km, U_Ekman, U_Ekman_sm, U_Ekman_sum, V_Ekman_sm, V_Ekman_sum, Ekman_data_u, Ekman_data_v"
   ]
  },
  {
   "cell_type": "code",
   "execution_count": null,
   "id": "040828d3",
   "metadata": {},
   "outputs": [],
   "source": [
    "def wind_3d(U_neg, V, NB_delta_130E_km):\n",
    "    U_neg_averages = [np.mean(U_neg[i:i+3]) for i in range(0, len(U_neg), 3)]\n",
    "    V_averages = [np.mean(V[i:i+3]) for i in range(0, len(V), 3)]\n",
    "    df = pd.DataFrame({'a': U_neg_averages, 'b': NB_delta_130E_km})\n",
    "\n",
    "    return U_neg_averages, V_averages, df"
   ]
  },
  {
   "cell_type": "code",
   "execution_count": null,
   "id": "d7cc39b9",
   "metadata": {},
   "outputs": [],
   "source": [
    "def make_reg_coef(U_neg_averages, V_averages, NB_delta_130E_km):\n",
    "    y_pred130, coef130, intercept130 = get_regression(U_neg_averages, V_averages, NB_delta_130E_km)\n",
    "\n",
    "    NB_delta_130E_km_cleaned = list(np.array(NB_delta_130E_km)[~np.isnan(NB_delta_130E_km)])\n",
    "\n",
    "    df130 = pd.DataFrame({'a': y_pred130, 'b': NB_delta_130E_km_cleaned})\n",
    "\n",
    "    return df130, coef130, intercept130"
   ]
  },
  {
   "cell_type": "markdown",
   "id": "c50b6f3a",
   "metadata": {},
   "source": [
    "Межгодовая изменчивость"
   ]
  },
  {
   "cell_type": "code",
   "execution_count": null,
   "id": "60706425",
   "metadata": {},
   "outputs": [],
   "source": [
    "# 2015\n",
    "year = 2015\n",
    "start_date = datetime.datetime(year, 7, 23).date()\n",
    "finish_date = datetime.datetime(year, 10, 9).date()\n",
    "dates = [(start_date + datetime.timedelta(days=i*3)) for i in range((finish_date - start_date).days // 3 + 1)]\n",
    "NB_130E = [75.25,75.75,76.25,76.375,76.75,77,76.875,77,76.875,77.125,77,77.25,77.125,77.125,\n",
    "           77.125,76.875,77.125,76.875,77.25,77.375,77.25,77.125,77.25,77.375,77.125,76.25,76.125]\n",
    "NB_delta_130E = [np.nan,0.5,0.5,0.125,0.375,0.25,-0.125,0.125,-0.125,0.25,-0.125,0.25,-0.125,0,0,\n",
    "                 -0.25,0.25,-0.25,0.375,0.125,-0.125,-0.125,0.125,0.125,-0.25,-0.875,-0.125]"
   ]
  },
  {
   "cell_type": "code",
   "execution_count": null,
   "id": "8d37360f",
   "metadata": {},
   "outputs": [],
   "source": [
    "border_north = 79\n",
    "border_south = 73\n",
    "border_east = 155\n",
    "border_west = 120\n",
    "borders = [border_north, border_south, border_east, border_west]\n",
    "\n",
    "months = [7,8,9,10]\n",
    "\n",
    "dates_wind, array_u10_filtered, array_v10_filtered, array_u10_upd_filtered, array_v10_upd_filtered = make_wind(borders, months, year, start_date, finish_date)"
   ]
  },
  {
   "cell_type": "code",
   "execution_count": null,
   "id": "bea5d866",
   "metadata": {},
   "outputs": [],
   "source": [
    "u10_mean_neg, v10_mean, wind_mean, U_neg, V = mean_wind(array_u10_upd_filtered, array_v10_upd_filtered)\n",
    "NB_delta_130E_km, U_Ekman, U_Ekman_sm, U_Ekman_sum, V_Ekman_sm, V_Ekman_sum, Ekman_data_u, Ekman_data_v = make_ekman(NB_delta_130E, U_neg, V)\n",
    "U_neg_averages, V_averages, df = wind_3d(U_neg, V, NB_delta_130E_km)\n",
    "print(df['a'].corr(df['b']))"
   ]
  },
  {
   "cell_type": "code",
   "execution_count": null,
   "id": "a1fce657",
   "metadata": {},
   "outputs": [],
   "source": [
    "draw_border_wind(dates, NB_130E, NB_delta_130E_km, dates_wind, U_Ekman_sm, Ekman_data_u, str(year))"
   ]
  },
  {
   "cell_type": "code",
   "execution_count": null,
   "id": "e9eb389d",
   "metadata": {},
   "outputs": [],
   "source": [
    "# 2016\n",
    "year = 2016\n",
    "start_date = datetime.datetime(year, 9, 15).date()\n",
    "finish_date = datetime.datetime(year, 10, 3).date()\n",
    "dates = [(start_date + datetime.timedelta(days=i*3)) for i in range((finish_date - start_date).days // 3 + 1)]\n",
    "NB_130E = [74.25,74.5,74,74.25,74.25,74,74.25]\n",
    "NB_delta_130E = [np.nan,0.25,-0.5,0.25,0,-0.25,0.25]"
   ]
  },
  {
   "cell_type": "code",
   "execution_count": null,
   "id": "86e01b49",
   "metadata": {},
   "outputs": [],
   "source": [
    "border_north = 76\n",
    "border_south = 72\n",
    "border_east = 155\n",
    "border_west = 120\n",
    "borders = [border_north, border_south, border_east, border_west]\n",
    "\n",
    "months = [9,10]\n",
    "\n",
    "dates_wind, array_u10_filtered, array_v10_filtered, array_u10_upd_filtered, array_v10_upd_filtered = make_wind(borders, months, year, start_date, finish_date)"
   ]
  },
  {
   "cell_type": "code",
   "execution_count": null,
   "id": "2c2d6c25",
   "metadata": {},
   "outputs": [],
   "source": [
    "u10_mean_neg, v10_mean, wind_mean, U_neg, V = mean_wind(array_u10_upd_filtered, array_v10_upd_filtered)\n",
    "NB_delta_130E_km, U_Ekman, U_Ekman_sm, U_Ekman_sum, V_Ekman_sm, V_Ekman_sum, Ekman_data_u, Ekman_data_v = make_ekman(NB_delta_130E, U_neg, V)\n",
    "U_neg_averages, V_averages, df = wind_3d(U_neg, V, NB_delta_130E_km)\n",
    "print(df['a'].corr(df['b']))"
   ]
  },
  {
   "cell_type": "code",
   "execution_count": null,
   "id": "e119b990",
   "metadata": {},
   "outputs": [],
   "source": [
    "draw_border_wind(dates, NB_130E, NB_delta_130E_km, dates_wind, U_Ekman_sm, Ekman_data_u, str(year))"
   ]
  },
  {
   "cell_type": "code",
   "execution_count": null,
   "id": "cd6848f5",
   "metadata": {},
   "outputs": [],
   "source": [
    "# 2017\n",
    "year = 2017\n",
    "start_date = datetime.datetime(year, 8, 13).date()\n",
    "finish_date = datetime.datetime(year, 9, 24).date()\n",
    "dates = [(start_date + datetime.timedelta(days=i*3)) for i in range((finish_date - start_date).days // 3 + 1)]\n",
    "NB_130E = [74.25,74.625,75,74.625,75.125,75.375,75,75.5,75.875,76.5,77.125,76.875,76.625,76.375,75.625]\n",
    "NB_delta_130E = [np.nan,0.375,0.375,-0.375,0.5,0.25,-0.375,0.5,0.375,0.625,0.625,-0.25,-0.25,-0.25,-0.75]"
   ]
  },
  {
   "cell_type": "code",
   "execution_count": null,
   "id": "da077049",
   "metadata": {},
   "outputs": [],
   "source": [
    "border_north = 79\n",
    "border_south = 73\n",
    "border_east = 150\n",
    "border_west = 120\n",
    "borders = [border_north, border_south, border_east, border_west]\n",
    "\n",
    "months = [8,9]\n",
    "\n",
    "dates_wind, array_u10_filtered, array_v10_filtered, array_u10_upd_filtered, array_v10_upd_filtered = make_wind(borders, months, year, start_date, finish_date)"
   ]
  },
  {
   "cell_type": "code",
   "execution_count": null,
   "id": "55ab6f5d",
   "metadata": {},
   "outputs": [],
   "source": [
    "u10_mean_neg, v10_mean, wind_mean, U_neg, V = mean_wind(array_u10_upd_filtered, array_v10_upd_filtered)\n",
    "NB_delta_130E_km, U_Ekman, U_Ekman_sm, U_Ekman_sum, V_Ekman_sm, V_Ekman_sum, Ekman_data_u, Ekman_data_v = make_ekman(NB_delta_130E, U_neg, V)\n",
    "U_neg_averages, V_averages, df = wind_3d(U_neg, V, NB_delta_130E_km)\n",
    "print(df['a'].corr(df['b']))"
   ]
  },
  {
   "cell_type": "code",
   "execution_count": null,
   "id": "d42e610c",
   "metadata": {},
   "outputs": [],
   "source": [
    "draw_border_wind(dates, NB_130E, NB_delta_130E_km, dates_wind, U_Ekman_sm, Ekman_data_u, str(year))"
   ]
  },
  {
   "cell_type": "code",
   "execution_count": null,
   "id": "752760e6",
   "metadata": {},
   "outputs": [],
   "source": [
    "# 2018\n",
    "year = 2018\n",
    "start_date = datetime.datetime(year, 7, 8).date()\n",
    "finish_date = datetime.datetime(year, 10, 15).date()\n",
    "dates = [(start_date + datetime.timedelta(days=i*3)) for i in range((finish_date - start_date).days // 3 + 1)]\n",
    "NB_130E = [76.125,75.875,76.125,75.75,75.375,76,75.5,75.625,75.75,76.125,75.875,76.125,76.125,76.25,76.125,76.25,76.75,\n",
    "           76.125,76.125,76.125,75.75,76,75.875,76.125,76.625,76.25,76.125,75.625,75.75,75.625,75.375,75.125,75.25,74.375]\n",
    "NB_delta_130E = [np.nan,-0.25,0.25,-0.375,-0.375,0.625,-0.5,0.125,0.125,0.375,-0.25,0.25,0,0.125,-0.125,0.125,0.5,\n",
    "                 -0.625,0,0,-0.375,0.25,-0.125,0.25,0.5,-0.375,-0.125,-0.5,0.125,-0.125,-0.25,-0.25,0.125,-0.875]"
   ]
  },
  {
   "cell_type": "code",
   "execution_count": null,
   "id": "507b84d2",
   "metadata": {},
   "outputs": [],
   "source": [
    "border_north = 78\n",
    "border_south = 73\n",
    "border_east = 145\n",
    "border_west = 125\n",
    "borders = [border_north, border_south, border_east, border_west]\n",
    "\n",
    "months = [7,8,9,10]\n",
    "\n",
    "dates_wind, array_u10_filtered, array_v10_filtered, array_u10_upd_filtered, array_v10_upd_filtered = make_wind(borders, months, year, start_date, finish_date)"
   ]
  },
  {
   "cell_type": "code",
   "execution_count": null,
   "id": "084e423c",
   "metadata": {},
   "outputs": [],
   "source": [
    "u10_mean_neg, v10_mean, wind_mean, U_neg, V = mean_wind(array_u10_upd_filtered, array_v10_upd_filtered)\n",
    "NB_delta_130E_km, U_Ekman, U_Ekman_sm, U_Ekman_sum, V_Ekman_sm, V_Ekman_sum, Ekman_data_u, Ekman_data_v = make_ekman(NB_delta_130E, U_neg, V)\n",
    "U_neg_averages, V_averages, df = wind_3d(U_neg, V, NB_delta_130E_km)\n",
    "print(df['a'].corr(df['b']))"
   ]
  },
  {
   "cell_type": "code",
   "execution_count": null,
   "id": "c763dc9d",
   "metadata": {},
   "outputs": [],
   "source": [
    "draw_border_wind(dates, NB_130E, NB_delta_130E_km, dates_wind, U_Ekman_sm, Ekman_data_u, str(year))"
   ]
  },
  {
   "cell_type": "code",
   "execution_count": null,
   "id": "dc34f850",
   "metadata": {},
   "outputs": [],
   "source": [
    "# 2019\n",
    "year = 2019\n",
    "start_date = datetime.datetime(year, 7, 23).date()\n",
    "finish_date = datetime.datetime(year, 10, 12).date()\n",
    "dates = [(start_date + datetime.timedelta(days=i*3)) for i in range((finish_date - start_date).days // 3 + 1)]\n",
    "NB_130E = [74.75,74.75,74.875,75.125,75.125,75.25,75.125,75.125,75.125,75.25,75.25,75.375,75.5,75.5,\n",
    "           75.25,75.5,75.5,75,75.375,75.625,75.625,75.625,75.875,76.25,76.375,76.625,76.875,76.625]\n",
    "NB_delta_130E = [np.nan,0,0.125,0.25,0,0.125,-0.125,0,0,0.125,0,0.125,0.125,0,-0.25,0.25,0,-0.5,0.375,0.25,0,0,0.25,0.375,0.125,0.25,0.25,-0.25]"
   ]
  },
  {
   "cell_type": "code",
   "execution_count": null,
   "id": "46e2f270",
   "metadata": {},
   "outputs": [],
   "source": [
    "border_north = 79\n",
    "border_south = 73\n",
    "border_east = 155\n",
    "border_west = 120\n",
    "borders = [border_north, border_south, border_east, border_west]\n",
    "\n",
    "months = [7,8,9,10]\n",
    "\n",
    "dates_wind, array_u10_filtered, array_v10_filtered, array_u10_upd_filtered, array_v10_upd_filtered = make_wind(borders, months, year, start_date, finish_date)"
   ]
  },
  {
   "cell_type": "code",
   "execution_count": null,
   "id": "9bf4c2b8",
   "metadata": {},
   "outputs": [],
   "source": [
    "u10_mean_neg, v10_mean, wind_mean, U_neg, V = mean_wind(array_u10_upd_filtered, array_v10_upd_filtered)\n",
    "NB_delta_130E_km, U_Ekman, U_Ekman_sm, U_Ekman_sum, V_Ekman_sm, V_Ekman_sum, Ekman_data_u, Ekman_data_v = make_ekman(NB_delta_130E, U_neg, V)\n",
    "U_neg_averages, V_averages, df = wind_3d(U_neg, V, NB_delta_130E_km)\n",
    "print(df['a'].corr(df['b']))"
   ]
  },
  {
   "cell_type": "code",
   "execution_count": null,
   "id": "8a125a87",
   "metadata": {},
   "outputs": [],
   "source": [
    "draw_border_wind(dates, NB_130E, NB_delta_130E_km, dates_wind, U_Ekman_sm, Ekman_data_u, str(year))"
   ]
  },
  {
   "cell_type": "code",
   "execution_count": null,
   "id": "7ce7c9ee",
   "metadata": {},
   "outputs": [],
   "source": [
    "# 2020\n",
    "year = 2020\n",
    "start_date = datetime.datetime(year, 7, 20).date()\n",
    "finish_date = datetime.datetime(year, 10, 9).date()\n",
    "dates = [(start_date + datetime.timedelta(days=i*3)) for i in range((finish_date - start_date).days // 3 + 1)]\n",
    "NB_130E = [76.875,77.5,77.625,77.25,77.125,77.25,77.125,77.25,77.375,77.375,77.625,77.625,77.875,77.125,\n",
    "           77.25,77.25,77.25,77.125,77.25,77.25,77.25,77.125,77,76.75,76.5,76.125,76.125,76.125]\n",
    "NB_delta_130E = [np.nan,0.625,0.125,-0.375,-0.125,0.125,-0.125,0.125,0.125,0,0.25,0,0.25,-0.75,0.125,0,0,-0.125,0.125,0,0,-0.125,-0.125,-0.25,-0.25,-0.375,0,0]"
   ]
  },
  {
   "cell_type": "code",
   "execution_count": null,
   "id": "00fbf955",
   "metadata": {},
   "outputs": [],
   "source": [
    "border_north = 79\n",
    "border_south = 73\n",
    "border_east = 155\n",
    "border_west = 120\n",
    "borders = [border_north, border_south, border_east, border_west]\n",
    "\n",
    "months = [7,8,9,10]\n",
    "\n",
    "dates_wind, array_u10_filtered, array_v10_filtered, array_u10_upd_filtered, array_v10_upd_filtered = make_wind(borders, months, year, start_date, finish_date)"
   ]
  },
  {
   "cell_type": "code",
   "execution_count": null,
   "id": "b3e2eae3",
   "metadata": {},
   "outputs": [],
   "source": [
    "u10_mean_neg, v10_mean, wind_mean, U_neg, V = mean_wind(array_u10_upd_filtered, array_v10_upd_filtered)\n",
    "NB_delta_130E_km, U_Ekman, U_Ekman_sm, U_Ekman_sum, V_Ekman_sm, V_Ekman_sum, Ekman_data_u, Ekman_data_v = make_ekman(NB_delta_130E, U_neg, V)\n",
    "U_neg_averages, V_averages, df = wind_3d(U_neg, V, NB_delta_130E_km)\n",
    "print(df['a'].corr(df['b']))"
   ]
  },
  {
   "cell_type": "code",
   "execution_count": null,
   "id": "059a8bc7",
   "metadata": {},
   "outputs": [],
   "source": [
    "draw_border_wind(dates, NB_130E, NB_delta_130E_km, dates_wind, U_Ekman_sm, Ekman_data_u, str(year))"
   ]
  },
  {
   "cell_type": "code",
   "execution_count": null,
   "id": "c6da5b7c",
   "metadata": {},
   "outputs": [],
   "source": [
    "# 2021\n",
    "year = 2021\n",
    "start_date = datetime.datetime(year, 7, 14).date()\n",
    "finish_date = datetime.datetime(year, 10, 12).date()\n",
    "dates = [(start_date + datetime.timedelta(days=i*3)) for i in range((finish_date - start_date).days // 3 + 1)]\n",
    "NB_130E = [74.25,74,74.25,74.5,74.875,75,75,75.25,75.375,75.625,75.25,75,75,75.375,75.5,75.875,\n",
    "           76,76,76.125,76.25,76,76.25,76.375,76.625,76.5,76.375,76.25,76.375,76.375,76.375,76.125]\n",
    "NB_delta_130E = [np.nan,-0.25,0.25,0.25,0.375,0.125,0,0.25,0.125,0.25,-0.375,-0.25,0,0.375,0.125,\n",
    "                 0.375,0.125,0,0.125,0.125,-0.25,0.25,0.125,0.25,-0.125,-0.125,-0.125,0.125,0,0,-0.25]"
   ]
  },
  {
   "cell_type": "code",
   "execution_count": null,
   "id": "d8118ee8",
   "metadata": {},
   "outputs": [],
   "source": [
    "border_north = 78\n",
    "border_south = 73\n",
    "border_east = 155\n",
    "border_west = 120\n",
    "borders = [border_north, border_south, border_east, border_west]\n",
    "\n",
    "months = [7,8,9,10]\n",
    "\n",
    "dates_wind, array_u10_filtered, array_v10_filtered, array_u10_upd_filtered, array_v10_upd_filtered = make_wind(borders, months, year, start_date, finish_date)"
   ]
  },
  {
   "cell_type": "code",
   "execution_count": null,
   "id": "a951b528",
   "metadata": {},
   "outputs": [],
   "source": [
    "u10_mean_neg, v10_mean, wind_mean, U_neg, V = mean_wind(array_u10_upd_filtered, array_v10_upd_filtered)\n",
    "NB_delta_130E_km, U_Ekman, U_Ekman_sm, U_Ekman_sum, V_Ekman_sm, V_Ekman_sum, Ekman_data_u, Ekman_data_v = make_ekman(NB_delta_130E, U_neg, V)\n",
    "U_neg_averages, V_averages, df = wind_3d(U_neg, V, NB_delta_130E_km)\n",
    "print(df['a'].corr(df['b']))"
   ]
  },
  {
   "cell_type": "code",
   "execution_count": null,
   "id": "6a2f0f07",
   "metadata": {},
   "outputs": [],
   "source": [
    "draw_border_wind(dates, NB_130E, NB_delta_130E_km, dates_wind, U_Ekman_sm, Ekman_data_u, str(year))"
   ]
  },
  {
   "cell_type": "code",
   "execution_count": null,
   "id": "f64e591f",
   "metadata": {},
   "outputs": [],
   "source": [
    "# 2022\n",
    "year = 2022\n",
    "start_date = datetime.datetime(year, 9, 21).date()\n",
    "finish_date = datetime.datetime(year, 10, 18).date()\n",
    "dates = [(start_date + datetime.timedelta(days=i*3)) for i in range((finish_date - start_date).days // 3 + 1)]\n",
    "NB_130E = [77.625,77.625,77.875,77.375,77,75.625,75.5,76,75.875,75.625]\n",
    "NB_delta_130E = [np.nan,0,0.25,-0.5,-0.375,-1.375,-0.125,0.5,-0.125,-0.25]"
   ]
  },
  {
   "cell_type": "code",
   "execution_count": null,
   "id": "20d4c375",
   "metadata": {},
   "outputs": [],
   "source": [
    "border_north = 79\n",
    "border_south = 75\n",
    "border_east = 135\n",
    "border_west = 125\n",
    "borders = [border_north, border_south, border_east, border_west]\n",
    "\n",
    "months = [9,10]\n",
    "\n",
    "dates_wind, array_u10_filtered, array_v10_filtered, array_u10_upd_filtered, array_v10_upd_filtered = make_wind(borders, months, year, start_date, finish_date)"
   ]
  },
  {
   "cell_type": "code",
   "execution_count": null,
   "id": "177e5ba3",
   "metadata": {},
   "outputs": [],
   "source": [
    "u10_mean_neg, v10_mean, wind_mean, U_neg, V = mean_wind(array_u10_upd_filtered, array_v10_upd_filtered)\n",
    "NB_delta_130E_km, U_Ekman, U_Ekman_sm, U_Ekman_sum, V_Ekman_sm, V_Ekman_sum, Ekman_data_u, Ekman_data_v = make_ekman(NB_delta_130E, U_neg, V)\n",
    "U_neg_averages, V_averages, df = wind_3d(U_neg, V, NB_delta_130E_km)\n",
    "print(df['a'].corr(df['b']))"
   ]
  },
  {
   "cell_type": "code",
   "execution_count": null,
   "id": "44f8997d",
   "metadata": {},
   "outputs": [],
   "source": [
    "draw_border_wind(dates, NB_130E, NB_delta_130E_km, dates_wind, U_Ekman_sm, Ekman_data_u, str(year))"
   ]
  },
  {
   "cell_type": "code",
   "execution_count": null,
   "id": "0372ed55",
   "metadata": {},
   "outputs": [],
   "source": [
    "# 2023\n",
    "year = 2023\n",
    "start_date = datetime.datetime(year, 8, 7).date()\n",
    "finish_date = datetime.datetime(year, 10, 12).date()\n",
    "dates = [(start_date + datetime.timedelta(days=i*3)) for i in range((finish_date - start_date).days // 3 + 1)]\n",
    "NB_130E = [75.625,75.625,75.75,76,76.25,76.5,76.5,76.5,76.125,76.125,76.125,76.25,75.625,76.25,76.25,76,75,74.625,74.75,75.125,75.125,75.125,75.25]\n",
    "NB_delta_130E = [np.nan,0,0.125,0.25,0.25,0.25,0,0,-0.375,0,0,0.125,-0.625,0.625,0,-0.25,-1,-0.375,0.125,0.375,0,0,0.125]"
   ]
  },
  {
   "cell_type": "code",
   "execution_count": null,
   "id": "aec512c7",
   "metadata": {},
   "outputs": [],
   "source": [
    "border_north = 79\n",
    "border_south = 73\n",
    "border_east = 155\n",
    "border_west = 120\n",
    "borders = [border_north, border_south, border_east, border_west]\n",
    "\n",
    "months = [8,9,10]\n",
    "\n",
    "dates_wind, array_u10_filtered, array_v10_filtered, array_u10_upd_filtered, array_v10_upd_filtered = make_wind(borders, months, year, start_date, finish_date)"
   ]
  },
  {
   "cell_type": "code",
   "execution_count": null,
   "id": "c1a3288c",
   "metadata": {},
   "outputs": [],
   "source": [
    "u10_mean_neg, v10_mean, wind_mean, U_neg, V = mean_wind(array_u10_upd_filtered, array_v10_upd_filtered)\n",
    "NB_delta_130E_km, U_Ekman, U_Ekman_sm, U_Ekman_sum, V_Ekman_sm, V_Ekman_sum, Ekman_data_u, Ekman_data_v = make_ekman(NB_delta_130E, U_neg, V)\n",
    "U_neg_averages, V_averages, df = wind_3d(U_neg, V, NB_delta_130E_km)\n",
    "print(df['a'].corr(df['b']))"
   ]
  },
  {
   "cell_type": "code",
   "execution_count": null,
   "id": "0cacdede",
   "metadata": {},
   "outputs": [],
   "source": [
    "draw_border_wind(dates, NB_130E, NB_delta_130E_km, dates_wind, U_Ekman_sm, Ekman_data_u, str(year))"
   ]
  },
  {
   "cell_type": "code",
   "execution_count": null,
   "id": "007b8949",
   "metadata": {},
   "outputs": [],
   "source": []
  },
  {
   "cell_type": "code",
   "execution_count": null,
   "id": "0afe6fc6",
   "metadata": {},
   "outputs": [],
   "source": []
  }
 ],
 "metadata": {
  "kernelspec": {
   "display_name": "Python 3",
   "language": "python",
   "name": "python3"
  },
  "language_info": {
   "codemirror_mode": {
    "name": "ipython",
    "version": 3
   },
   "file_extension": ".py",
   "mimetype": "text/x-python",
   "name": "python",
   "nbconvert_exporter": "python",
   "pygments_lexer": "ipython3",
   "version": "3.10.12"
  }
 },
 "nbformat": 4,
 "nbformat_minor": 5
}
